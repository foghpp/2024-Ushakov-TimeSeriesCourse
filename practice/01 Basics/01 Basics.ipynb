{
  "cells": [
    {
      "cell_type": "markdown",
      "metadata": {
        "id": "lo_4TuKQ7Rvi"
      },
      "source": [
        "# Анализ и прогнозирование временных рядов методами искусственного интеллекта\n",
        "\n",
        "## **Практическая работа 1. Метрики и меры схожести между временными рядами.**"
      ]
    },
    {
      "cell_type": "markdown",
      "metadata": {
        "id": "5x4KJjWOr5Rm"
      },
      "source": [
        "Смените рабочую директорию с помощью команды `chdir()`. Для этого передайте этой команде свой путь до каталога, в котором содержатся материалы первой практической работы. После выполнения этой команды все последующие операции с файлами и каталогами будут производиться относительно указанного каталога."
      ]
    },
    {
      "cell_type": "code",
      "execution_count": 1,
      "metadata": {
        "id": "5jsToCkfFWdU"
      },
      "outputs": [],
      "source": [
        "import os\n",
        "\n",
        "practice_dir_path = '.'\n",
        "os.chdir(practice_dir_path)"
      ]
    },
    {
      "cell_type": "markdown",
      "metadata": {
        "id": "ok0wnfndt97x"
      },
      "source": [
        "Выполните команды, которые автоматически перезагружают все импортированные модули при их изменении."
      ]
    },
    {
      "cell_type": "code",
      "execution_count": 2,
      "metadata": {
        "id": "HUZGrGwdL4_4"
      },
      "outputs": [],
      "source": [
        "%load_ext autoreload\n",
        "%autoreload 2"
      ]
    },
    {
      "cell_type": "markdown",
      "metadata": {
        "id": "huPpzXLq814_"
      },
      "source": [
        "Импортируйте библиотеки и модули, необходимые для реализации практической работы 1."
      ]
    },
    {
      "cell_type": "code",
      "execution_count": 3,
      "metadata": {
        "id": "GMYZSsnptoaP"
      },
      "outputs": [
        {
          "name": "stdout",
          "output_type": "stream",
          "text": [
            "Requirement already satisfied: imutils in d:\\dev\\anaconda3\\lib\\site-packages (0.5.4)\n",
            "Requirement already satisfied: opencv-python in d:\\dev\\anaconda3\\lib\\site-packages (4.10.0.84)\n",
            "Requirement already satisfied: numpy>=1.21.2 in d:\\dev\\anaconda3\\lib\\site-packages (from opencv-python) (1.26.4)\n",
            "Requirement already satisfied: sktime in d:\\dev\\anaconda3\\lib\\site-packages (0.33.0)\n",
            "Requirement already satisfied: joblib<1.5,>=1.2.0 in d:\\dev\\anaconda3\\lib\\site-packages (from sktime) (1.4.2)\n",
            "Requirement already satisfied: numpy<2.1,>=1.21 in d:\\dev\\anaconda3\\lib\\site-packages (from sktime) (1.26.4)\n",
            "Requirement already satisfied: packaging in d:\\dev\\anaconda3\\lib\\site-packages (from sktime) (23.2)\n",
            "Requirement already satisfied: pandas<2.3.0,>=1.1 in d:\\dev\\anaconda3\\lib\\site-packages (from sktime) (2.2.2)\n",
            "Requirement already satisfied: scikit-base<0.10.0,>=0.6.1 in d:\\dev\\anaconda3\\lib\\site-packages (from sktime) (0.9.0)\n",
            "Requirement already satisfied: scikit-learn<1.6.0,>=0.24 in d:\\dev\\anaconda3\\lib\\site-packages (from sktime) (1.4.2)\n",
            "Requirement already satisfied: scipy<2.0.0,>=1.2 in d:\\dev\\anaconda3\\lib\\site-packages (from sktime) (1.13.1)\n",
            "Requirement already satisfied: python-dateutil>=2.8.2 in d:\\dev\\anaconda3\\lib\\site-packages (from pandas<2.3.0,>=1.1->sktime) (2.9.0.post0)\n",
            "Requirement already satisfied: pytz>=2020.1 in d:\\dev\\anaconda3\\lib\\site-packages (from pandas<2.3.0,>=1.1->sktime) (2024.1)\n",
            "Requirement already satisfied: tzdata>=2022.7 in d:\\dev\\anaconda3\\lib\\site-packages (from pandas<2.3.0,>=1.1->sktime) (2023.3)\n",
            "Requirement already satisfied: threadpoolctl>=2.0.0 in d:\\dev\\anaconda3\\lib\\site-packages (from scikit-learn<1.6.0,>=0.24->sktime) (2.2.0)\n",
            "Requirement already satisfied: six>=1.5 in d:\\dev\\anaconda3\\lib\\site-packages (from python-dateutil>=2.8.2->pandas<2.3.0,>=1.1->sktime) (1.16.0)\n"
          ]
        }
      ],
      "source": [
        "!pip install imutils\n",
        "!pip install opencv-python\n",
        "!pip install sktime"
      ]
    },
    {
      "cell_type": "code",
      "execution_count": 4,
      "metadata": {
        "id": "CbWxHkjF8xYX"
      },
      "outputs": [
        {
          "data": {
            "text/html": [
              "        <script type=\"text/javascript\">\n",
              "        window.PlotlyConfig = {MathJaxConfig: 'local'};\n",
              "        if (window.MathJax && window.MathJax.Hub && window.MathJax.Hub.Config) {window.MathJax.Hub.Config({SVG: {font: \"STIX-Web\"}});}\n",
              "        if (typeof require !== 'undefined') {\n",
              "        require.undef(\"plotly\");\n",
              "        requirejs.config({\n",
              "            paths: {\n",
              "                'plotly': ['https://cdn.plot.ly/plotly-2.32.0.min']\n",
              "            }\n",
              "        });\n",
              "        require(['plotly'], function(Plotly) {\n",
              "            window._Plotly = Plotly;\n",
              "        });\n",
              "        }\n",
              "        </script>\n",
              "        "
            ]
          },
          "metadata": {},
          "output_type": "display_data"
        }
      ],
      "source": [
        "import numpy as np\n",
        "import random\n",
        "from sktime.distances import euclidean_distance, dtw_distance, pairwise_distance\n",
        "from sklearn.metrics import silhouette_score\n",
        "import cv2\n",
        "import imutils\n",
        "import glob\n",
        "import matplotlib.pyplot as plt\n",
        "\n",
        "from modules.metrics import ED_distance, norm_ED_distance, DTW_distance\n",
        "from modules.pairwise_distance import PairwiseDistance\n",
        "from modules.clustering import TimeSeriesHierarchicalClustering\n",
        "from modules.classification import TimeSeriesKNN, calculate_accuracy\n",
        "from modules.image_converter import image2ts\n",
        "from modules.utils import read_ts, z_normalize, sliding_window, random_walk\n",
        "from modules.plots import plot_ts"
      ]
    },
    {
      "cell_type": "markdown",
      "metadata": {
        "id": "voz1-GqVLI-B"
      },
      "source": [
        "## **Часть 1.** Функции расстояния: евклидова метрика и DTW мера. Матрица расстояний. Иерархическая кластеризация временных рядов."
      ]
    },
    {
      "cell_type": "markdown",
      "metadata": {
        "id": "c6rirU6j2z8z"
      },
      "source": [
        "### **Задача 1.**\n",
        "Реализуйте самостоятельно функцию `ED_distance()` в модуле *metrics.py*, которая вычисляет евклидово расстояние между двумя временными рядами, имеющими одинаковую длину. В качестве входных данных передайте в функцию два синтетических временных ряда некоторой заданной вами длины. Для их генерации используйте функцию `random_walk()` из модуля *utils.py*,  реализующую модель случайных блужданий (Random Walk), или стандартный модуль *random*.\n",
        "\n",
        "**Евклидово расстояние** между двумя временными рядами $T_1$ и $T_2$ длины $n$ вычисляется следующим образом:\n",
        "\n",
        "\\begin{equation}\n",
        "    \\text{ED}(T_1, T_2) = \\sqrt{\\sum_{i=1}^{n} ({t_{1}}_i-{t_{2}}_i)^2}.\n",
        "\\end{equation}\n",
        "\n",
        "Проверьте реализацию функции, сравнив свои результаты с результатами функции [`euclidean_distance()`](https://www.sktime.net/en/latest/api_reference/auto_generated/sktime.distances.euclidean_distance.html) из библиотеки *sktime*, с помощью `test_distances()`."
      ]
    },
    {
      "cell_type": "code",
      "execution_count": 5,
      "metadata": {
        "id": "UonNUuRvoY7p"
      },
      "outputs": [],
      "source": [
        "def test_distances(dist1: float, dist2: float) -> None:\n",
        "    \"\"\"\n",
        "    Check whether your distance function is implemented correctly\n",
        "\n",
        "    Parameters\n",
        "    ----------\n",
        "    dist1 : distance between two time series calculated by sktime\n",
        "    dist2 : distance between two time series calculated by your function\n",
        "    \"\"\"\n",
        "\n",
        "    np.testing.assert_equal(round(dist1, 5), round(dist2, 5), 'Distances are not equal')"
      ]
    },
    {
      "cell_type": "code",
      "execution_count": 6,
      "metadata": {
        "id": "sv2QymEGJGH-"
      },
      "outputs": [],
      "source": [
        "ts1 = random_walk(100)\n",
        "ts2 = random_walk(100)\n",
        "\n",
        "dist1 = euclidean_distance(ts1, ts2)\n",
        "dist2 = ED_distance(ts1, ts2)\n",
        "\n",
        "test_distances(dist1, dist2)"
      ]
    },
    {
      "cell_type": "markdown",
      "metadata": {
        "id": "ThvJ4CrY-DMe"
      },
      "source": [
        "### **Задача 2.**\n",
        "\n",
        "Реализуйте самостоятельно функцию `DTW_distance()` в модуле *metrics.py*, которая вычисляет DTW расстояние между двумя временными рядами, имеющими одинаковую длину. Для вычисления расстояния между элементами временных рядов в DTW мере используйте евклидово расстояние. Временные ряды сгенерируйте аналогичным образом, как в задаче 1, или используйте уже созданные.\n",
        "\n",
        "**Динамическая трансформация временной шкалы (Dynamic Time Warping, DTW)** – мера схожести между двумя временными рядами $T_1$ и $T_2$ длины $n$, вычисляемая следующим образом:\n",
        "\n",
        "\\begin{equation}\n",
        "\\text{DTW}(T_1, T_2) = d(n,n),\n",
        "\\\\ d(i,j) = ({t_{1}}_i - {t_{2}}_j)^2 + \\min \\left\\{\n",
        "\t\\begin{array}{l l}\n",
        "\td(i-1,j), \\\\\n",
        "\td(i,j-1), \\\\\n",
        "\td(i-1,j-1),\n",
        "\t\\end{array}\n",
        "\t\\right.\n",
        "\\\\ d(0,0)=0, \\quad d(i,0)=d(0,j)=\\infty, \\quad  1 \\leqslant i,j \\leqslant n.\n",
        "\\end{equation}\n",
        "\n",
        "Сравните свои результаты с результатами функции [`dtw_distance()`](https://www.sktime.net/en/latest/api_reference/auto_generated/sktime.distances.dtw_distance.html) из библиотеки *sktime*. Для этого используйте `test_distances()` из задачи 1."
      ]
    },
    {
      "cell_type": "code",
      "execution_count": 7,
      "metadata": {
        "id": "GU6jTavryBWx"
      },
      "outputs": [],
      "source": [
        "dist1 = dtw_distance(ts1, ts2)\n",
        "dist2 = DTW_distance(ts1, ts2)\n",
        "\n",
        "test_distances(dist1, dist2)"
      ]
    },
    {
      "cell_type": "markdown",
      "metadata": {
        "id": "V4Li2-bcRzG7"
      },
      "source": [
        "### **Задача 3.**\n",
        "Реализуйте нахождение матрицы расстояний между несколькими временными рядами.\n",
        "Для этого заполните все методы c недостающим кодом в классе `PairwiseDistance` из модуля *pairwise_distance.py*. Для вычисления расстояний между рядами используйте ранее реализованные вами функции `ED_distance()` и `DTW_distance()` из модуля *metrics.py*.\n",
        "\n",
        "Матрица расстояний между временными рядами определяется следующим образом. Пусть дано множество $S$, состоящее из $K$ временных рядов длины $n$: $\\;S = \\{T_1, T_2, ..., T_K\\}, \\; T_i \\in \\mathbb{R}^n$. Тогда под **матрицей расстояний** $D \\in \\mathbb{R}^{K \\times K}$ понимается квадратная матрица, где каждый ее элемент $d(i,j)$ представляет собой расстояние между временными рядами $T_i$ и $T_j$ из множества $S$:\n",
        "\\begin{equation}\n",
        "d(i,j) = dist(T_i, T_j), \\quad T_i, T_j \\in S, \\quad 1 \\leqslant i,j \\leqslant K.\n",
        "\\end{equation}\n",
        "\n",
        "Поскольку евклидова метрика и DTW мера удовлетворяют аксиоме симметричности (т.е. $dist(T_i, T_j)=dist(T_j, T_i)$), то матрица расстояний $D$ будет симметричной относительно главной диагонали. Для ускорения вычислений достаточно найти ее верхний треугольник, а нижний треугольник матрицы заполнить значениями верхнего треугольника следующим образом:\n",
        "\\begin{equation}\n",
        "d(j,i) = d(i,j), \\; где \\; i < j.\n",
        "\\end{equation}\n",
        "\n",
        "<center><img src=\"https://github.com/mzym/TimeSeriesCourse/blob/main/practice/01%20Basics/img/distance_matrix.png?raw=true\" width=\"600\"></center>"
      ]
    },
    {
      "cell_type": "markdown",
      "metadata": {
        "id": "uBHlNCjqqukS"
      },
      "source": [
        "Сгенерируйте множество, состоящее из $K$ временных рядов некоторой длины $n$. Вычислите матрицы евклидовых и DTW расстояний между ними. Проверьте реализованные вами методы, сравнив свои результаты с результатами функции [`pairwise_distance()`](https://www.sktime.net/en/latest/api_reference/auto_generated/sktime.distances.pairwise_distance.html) из библиотеки *sktime*."
      ]
    },
    {
      "cell_type": "code",
      "execution_count": 8,
      "metadata": {
        "id": "jTp56wMd-uhN"
      },
      "outputs": [],
      "source": [
        "def test_matrices(matrix1 : np.ndarray, matrix2 : np.ndarray) -> None:\n",
        "    \"\"\"\n",
        "    Check whether your matrix function is implemented correctly\n",
        "\n",
        "    Parameters\n",
        "    ----------\n",
        "    matrix1 : distance matrix calculated by sktime\n",
        "    matrix2 : distance matrix calculated by your function\n",
        "    \"\"\"\n",
        "\n",
        "    np.testing.assert_equal(matrix1.round(5), matrix2.round(5), 'Matrices are not equal')"
      ]
    },
    {
      "cell_type": "code",
      "execution_count": 11,
      "metadata": {
        "id": "05a9bmkvkZTR"
      },
      "outputs": [],
      "source": [
        "input_data = np.array([random_walk(100) for _ in range(10)])\n",
        "\n",
        "matrix1_euclidean = pairwise_distance(input_data, metric='euclidean')\n",
        "matrix2_euclidean = PairwiseDistance(metric='euclidean').calculate(input_data)\n",
        "\n",
        "matrix1_dtw = pairwise_distance(input_data, metric='dtw')\n",
        "matrix2_dtw = PairwiseDistance(metric='dtw').calculate(input_data)\n",
        "\n",
        "test_matrices(matrix1_euclidean, matrix2_euclidean)\n",
        "test_matrices(matrix1_dtw, matrix2_dtw)"
      ]
    },
    {
      "cell_type": "markdown",
      "metadata": {
        "id": "ZKbP0Pt8RyJg"
      },
      "source": [
        "### **Задача 4.**\n",
        "Далее рассмотрим задачу иерархической кластеризации временных рядов, где будет использоваться предвычисленная матрица расстояний.\n",
        "\n",
        "Для этого сначала загрузите набор временных рядов CBF из файла *CBF_TRAIN.txt*, который располагается в директории *./datasets/part1*. Каждая строка данного файла содержит целевую переменную (класс: 0, 1 или 2) в первом столбце и временной ряд в остальных столбцах. Набор CBF является синтетическим и включает в себя 30 временных рядов,  каждый из которых принадлежит к одному из трех классов."
      ]
    },
    {
      "cell_type": "code",
      "execution_count": 13,
      "metadata": {
        "id": "DmefHJ64FYGT"
      },
      "outputs": [
        {
          "name": "stderr",
          "output_type": "stream",
          "text": [
            "e:\\Source\\repos\\TimeSeries\\practice\\01 Basics\\modules\\utils.py:20: FutureWarning:\n",
            "\n",
            "The 'delim_whitespace' keyword in pd.read_csv is deprecated and will be removed in a future version. Use ``sep='\\s+'`` instead\n",
            "\n"
          ]
        }
      ],
      "source": [
        "url = './datasets/part1/CBF_TRAIN.txt'\n",
        "\n",
        "data = read_ts(url)\n",
        "\n",
        "ts_set = data[:, 1:]\n",
        "labels = data[:, 0]"
      ]
    },
    {
      "cell_type": "markdown",
      "metadata": {
        "id": "_4a6AIrT19g3"
      },
      "source": [
        "Выполните визуализацию по одному временному ряду из каждого класса. Для этого используйте функцию `plot_ts()` из модуля *plots.py*."
      ]
    },
    {
      "cell_type": "code",
      "execution_count": 19,
      "metadata": {
        "id": "WWnUbJWmy1kB"
      },
      "outputs": [
        {
          "data": {
            "application/vnd.plotly.v1+json": {
              "config": {
                "plotlyServerURL": "https://plot.ly"
              },
              "data": [
                {
                  "line": {
                    "width": 3
                  },
                  "name": "Time series 0",
                  "type": "scatter",
                  "x": [
                    0,
                    1,
                    2,
                    3,
                    4,
                    5,
                    6,
                    7,
                    8,
                    9,
                    10,
                    11,
                    12,
                    13,
                    14,
                    15,
                    16,
                    17,
                    18,
                    19,
                    20,
                    21,
                    22,
                    23,
                    24,
                    25,
                    26,
                    27,
                    28,
                    29,
                    30,
                    31,
                    32,
                    33,
                    34,
                    35,
                    36,
                    37,
                    38,
                    39,
                    40,
                    41,
                    42,
                    43,
                    44,
                    45,
                    46,
                    47,
                    48,
                    49,
                    50,
                    51,
                    52,
                    53,
                    54,
                    55,
                    56,
                    57,
                    58,
                    59,
                    60,
                    61,
                    62,
                    63,
                    64,
                    65,
                    66,
                    67,
                    68,
                    69,
                    70,
                    71,
                    72,
                    73,
                    74,
                    75,
                    76,
                    77,
                    78,
                    79,
                    80,
                    81,
                    82,
                    83,
                    84,
                    85,
                    86,
                    87,
                    88,
                    89,
                    90,
                    91,
                    92,
                    93,
                    94,
                    95,
                    96,
                    97,
                    98,
                    99,
                    100,
                    101,
                    102,
                    103,
                    104,
                    105,
                    106,
                    107,
                    108,
                    109,
                    110,
                    111,
                    112,
                    113,
                    114,
                    115,
                    116,
                    117,
                    118,
                    119,
                    120,
                    121,
                    122,
                    123,
                    124,
                    125,
                    126,
                    127
                  ],
                  "y": [
                    -0.46427649,
                    -0.55504787,
                    -0.8428431,
                    -0.86589548,
                    -0.93639631,
                    -0.81726995,
                    -0.26361216,
                    -1.2580483,
                    -1.2503934,
                    -0.91830825,
                    -0.92210226,
                    -0.98448828,
                    -1.2880511,
                    -1.14346,
                    -1.0488611,
                    -0.36538582,
                    -0.6913952,
                    -0.98055025,
                    -0.99133601,
                    -0.88708673,
                    -1.109881,
                    -0.7687248,
                    -1.0102962,
                    -0.84699606,
                    -1.3277464,
                    -0.7129093,
                    -1.2977275,
                    1.3314643,
                    0.9357379,
                    1.2360468,
                    1.0560677,
                    0.91074495,
                    1.3713479,
                    0.93705876,
                    0.91029198,
                    0.93108664,
                    1.4937796,
                    1.3192656,
                    1.2190887,
                    0.94836262,
                    0.16902251,
                    0.97739879,
                    1.2301476,
                    0.57156683,
                    0.75134091,
                    0.96185121,
                    0.7813122,
                    1.1044295,
                    1.0003177,
                    0.5507251,
                    0.2688748,
                    1.1255209,
                    1.0758635,
                    1.071738,
                    1.1544819,
                    0.75940186,
                    0.1511864,
                    1.0202768,
                    1.2572739,
                    1.007149,
                    1.1624171,
                    0.82999734,
                    1.4850935,
                    1.1050903,
                    1.5393173,
                    1.1156157,
                    1.8913625,
                    1.3900586,
                    1.1566925,
                    1.5148579,
                    1.6335918,
                    0.8102606,
                    0.67666423,
                    0.7093935,
                    1.3614136,
                    1.3123797,
                    0.59160823,
                    0.83192841,
                    1.0970562,
                    0.96495583,
                    0.92592252,
                    1.236138,
                    1.1216699,
                    0.934699,
                    1.2165038,
                    -1.6066345,
                    -0.59477544,
                    -0.75663256,
                    -0.56605888,
                    -0.64849922,
                    -0.65649255,
                    -0.53225104,
                    -0.11504817,
                    -0.57315237,
                    -0.54118282,
                    -0.70008673,
                    -1.198927,
                    -0.95269931,
                    -0.99828204,
                    -0.82499015,
                    -0.38078029,
                    -0.47659767,
                    -0.60136144,
                    -0.36936332,
                    -1.2990449,
                    -0.91839479,
                    -1.2648127,
                    -0.99193767,
                    -0.80557657,
                    -0.9209508,
                    -0.36623347,
                    -0.34636283,
                    -1.0469164,
                    -0.91466684,
                    -0.91156991,
                    -0.98677519,
                    -1.2189544,
                    -0.52962015,
                    -1.3310856,
                    -1.0837,
                    -1.0179615,
                    -0.91602872,
                    -1.1342892,
                    -0.92022369,
                    -0.7893615,
                    -0.63870583,
                    -0.96366425,
                    -1.2451691
                  ]
                }
              ],
              "layout": {
                "height": 400,
                "legend": {
                  "font": {
                    "color": "black",
                    "size": 16
                  }
                },
                "plot_bgcolor": "rgba(0,0,0,0)",
                "template": {
                  "data": {
                    "bar": [
                      {
                        "error_x": {
                          "color": "#2a3f5f"
                        },
                        "error_y": {
                          "color": "#2a3f5f"
                        },
                        "marker": {
                          "line": {
                            "color": "#E5ECF6",
                            "width": 0.5
                          },
                          "pattern": {
                            "fillmode": "overlay",
                            "size": 10,
                            "solidity": 0.2
                          }
                        },
                        "type": "bar"
                      }
                    ],
                    "barpolar": [
                      {
                        "marker": {
                          "line": {
                            "color": "#E5ECF6",
                            "width": 0.5
                          },
                          "pattern": {
                            "fillmode": "overlay",
                            "size": 10,
                            "solidity": 0.2
                          }
                        },
                        "type": "barpolar"
                      }
                    ],
                    "carpet": [
                      {
                        "aaxis": {
                          "endlinecolor": "#2a3f5f",
                          "gridcolor": "white",
                          "linecolor": "white",
                          "minorgridcolor": "white",
                          "startlinecolor": "#2a3f5f"
                        },
                        "baxis": {
                          "endlinecolor": "#2a3f5f",
                          "gridcolor": "white",
                          "linecolor": "white",
                          "minorgridcolor": "white",
                          "startlinecolor": "#2a3f5f"
                        },
                        "type": "carpet"
                      }
                    ],
                    "choropleth": [
                      {
                        "colorbar": {
                          "outlinewidth": 0,
                          "ticks": ""
                        },
                        "type": "choropleth"
                      }
                    ],
                    "contour": [
                      {
                        "colorbar": {
                          "outlinewidth": 0,
                          "ticks": ""
                        },
                        "colorscale": [
                          [
                            0,
                            "#0d0887"
                          ],
                          [
                            0.1111111111111111,
                            "#46039f"
                          ],
                          [
                            0.2222222222222222,
                            "#7201a8"
                          ],
                          [
                            0.3333333333333333,
                            "#9c179e"
                          ],
                          [
                            0.4444444444444444,
                            "#bd3786"
                          ],
                          [
                            0.5555555555555556,
                            "#d8576b"
                          ],
                          [
                            0.6666666666666666,
                            "#ed7953"
                          ],
                          [
                            0.7777777777777778,
                            "#fb9f3a"
                          ],
                          [
                            0.8888888888888888,
                            "#fdca26"
                          ],
                          [
                            1,
                            "#f0f921"
                          ]
                        ],
                        "type": "contour"
                      }
                    ],
                    "contourcarpet": [
                      {
                        "colorbar": {
                          "outlinewidth": 0,
                          "ticks": ""
                        },
                        "type": "contourcarpet"
                      }
                    ],
                    "heatmap": [
                      {
                        "colorbar": {
                          "outlinewidth": 0,
                          "ticks": ""
                        },
                        "colorscale": [
                          [
                            0,
                            "#0d0887"
                          ],
                          [
                            0.1111111111111111,
                            "#46039f"
                          ],
                          [
                            0.2222222222222222,
                            "#7201a8"
                          ],
                          [
                            0.3333333333333333,
                            "#9c179e"
                          ],
                          [
                            0.4444444444444444,
                            "#bd3786"
                          ],
                          [
                            0.5555555555555556,
                            "#d8576b"
                          ],
                          [
                            0.6666666666666666,
                            "#ed7953"
                          ],
                          [
                            0.7777777777777778,
                            "#fb9f3a"
                          ],
                          [
                            0.8888888888888888,
                            "#fdca26"
                          ],
                          [
                            1,
                            "#f0f921"
                          ]
                        ],
                        "type": "heatmap"
                      }
                    ],
                    "heatmapgl": [
                      {
                        "colorbar": {
                          "outlinewidth": 0,
                          "ticks": ""
                        },
                        "colorscale": [
                          [
                            0,
                            "#0d0887"
                          ],
                          [
                            0.1111111111111111,
                            "#46039f"
                          ],
                          [
                            0.2222222222222222,
                            "#7201a8"
                          ],
                          [
                            0.3333333333333333,
                            "#9c179e"
                          ],
                          [
                            0.4444444444444444,
                            "#bd3786"
                          ],
                          [
                            0.5555555555555556,
                            "#d8576b"
                          ],
                          [
                            0.6666666666666666,
                            "#ed7953"
                          ],
                          [
                            0.7777777777777778,
                            "#fb9f3a"
                          ],
                          [
                            0.8888888888888888,
                            "#fdca26"
                          ],
                          [
                            1,
                            "#f0f921"
                          ]
                        ],
                        "type": "heatmapgl"
                      }
                    ],
                    "histogram": [
                      {
                        "marker": {
                          "pattern": {
                            "fillmode": "overlay",
                            "size": 10,
                            "solidity": 0.2
                          }
                        },
                        "type": "histogram"
                      }
                    ],
                    "histogram2d": [
                      {
                        "colorbar": {
                          "outlinewidth": 0,
                          "ticks": ""
                        },
                        "colorscale": [
                          [
                            0,
                            "#0d0887"
                          ],
                          [
                            0.1111111111111111,
                            "#46039f"
                          ],
                          [
                            0.2222222222222222,
                            "#7201a8"
                          ],
                          [
                            0.3333333333333333,
                            "#9c179e"
                          ],
                          [
                            0.4444444444444444,
                            "#bd3786"
                          ],
                          [
                            0.5555555555555556,
                            "#d8576b"
                          ],
                          [
                            0.6666666666666666,
                            "#ed7953"
                          ],
                          [
                            0.7777777777777778,
                            "#fb9f3a"
                          ],
                          [
                            0.8888888888888888,
                            "#fdca26"
                          ],
                          [
                            1,
                            "#f0f921"
                          ]
                        ],
                        "type": "histogram2d"
                      }
                    ],
                    "histogram2dcontour": [
                      {
                        "colorbar": {
                          "outlinewidth": 0,
                          "ticks": ""
                        },
                        "colorscale": [
                          [
                            0,
                            "#0d0887"
                          ],
                          [
                            0.1111111111111111,
                            "#46039f"
                          ],
                          [
                            0.2222222222222222,
                            "#7201a8"
                          ],
                          [
                            0.3333333333333333,
                            "#9c179e"
                          ],
                          [
                            0.4444444444444444,
                            "#bd3786"
                          ],
                          [
                            0.5555555555555556,
                            "#d8576b"
                          ],
                          [
                            0.6666666666666666,
                            "#ed7953"
                          ],
                          [
                            0.7777777777777778,
                            "#fb9f3a"
                          ],
                          [
                            0.8888888888888888,
                            "#fdca26"
                          ],
                          [
                            1,
                            "#f0f921"
                          ]
                        ],
                        "type": "histogram2dcontour"
                      }
                    ],
                    "mesh3d": [
                      {
                        "colorbar": {
                          "outlinewidth": 0,
                          "ticks": ""
                        },
                        "type": "mesh3d"
                      }
                    ],
                    "parcoords": [
                      {
                        "line": {
                          "colorbar": {
                            "outlinewidth": 0,
                            "ticks": ""
                          }
                        },
                        "type": "parcoords"
                      }
                    ],
                    "pie": [
                      {
                        "automargin": true,
                        "type": "pie"
                      }
                    ],
                    "scatter": [
                      {
                        "fillpattern": {
                          "fillmode": "overlay",
                          "size": 10,
                          "solidity": 0.2
                        },
                        "type": "scatter"
                      }
                    ],
                    "scatter3d": [
                      {
                        "line": {
                          "colorbar": {
                            "outlinewidth": 0,
                            "ticks": ""
                          }
                        },
                        "marker": {
                          "colorbar": {
                            "outlinewidth": 0,
                            "ticks": ""
                          }
                        },
                        "type": "scatter3d"
                      }
                    ],
                    "scattercarpet": [
                      {
                        "marker": {
                          "colorbar": {
                            "outlinewidth": 0,
                            "ticks": ""
                          }
                        },
                        "type": "scattercarpet"
                      }
                    ],
                    "scattergeo": [
                      {
                        "marker": {
                          "colorbar": {
                            "outlinewidth": 0,
                            "ticks": ""
                          }
                        },
                        "type": "scattergeo"
                      }
                    ],
                    "scattergl": [
                      {
                        "marker": {
                          "colorbar": {
                            "outlinewidth": 0,
                            "ticks": ""
                          }
                        },
                        "type": "scattergl"
                      }
                    ],
                    "scattermapbox": [
                      {
                        "marker": {
                          "colorbar": {
                            "outlinewidth": 0,
                            "ticks": ""
                          }
                        },
                        "type": "scattermapbox"
                      }
                    ],
                    "scatterpolar": [
                      {
                        "marker": {
                          "colorbar": {
                            "outlinewidth": 0,
                            "ticks": ""
                          }
                        },
                        "type": "scatterpolar"
                      }
                    ],
                    "scatterpolargl": [
                      {
                        "marker": {
                          "colorbar": {
                            "outlinewidth": 0,
                            "ticks": ""
                          }
                        },
                        "type": "scatterpolargl"
                      }
                    ],
                    "scatterternary": [
                      {
                        "marker": {
                          "colorbar": {
                            "outlinewidth": 0,
                            "ticks": ""
                          }
                        },
                        "type": "scatterternary"
                      }
                    ],
                    "surface": [
                      {
                        "colorbar": {
                          "outlinewidth": 0,
                          "ticks": ""
                        },
                        "colorscale": [
                          [
                            0,
                            "#0d0887"
                          ],
                          [
                            0.1111111111111111,
                            "#46039f"
                          ],
                          [
                            0.2222222222222222,
                            "#7201a8"
                          ],
                          [
                            0.3333333333333333,
                            "#9c179e"
                          ],
                          [
                            0.4444444444444444,
                            "#bd3786"
                          ],
                          [
                            0.5555555555555556,
                            "#d8576b"
                          ],
                          [
                            0.6666666666666666,
                            "#ed7953"
                          ],
                          [
                            0.7777777777777778,
                            "#fb9f3a"
                          ],
                          [
                            0.8888888888888888,
                            "#fdca26"
                          ],
                          [
                            1,
                            "#f0f921"
                          ]
                        ],
                        "type": "surface"
                      }
                    ],
                    "table": [
                      {
                        "cells": {
                          "fill": {
                            "color": "#EBF0F8"
                          },
                          "line": {
                            "color": "white"
                          }
                        },
                        "header": {
                          "fill": {
                            "color": "#C8D4E3"
                          },
                          "line": {
                            "color": "white"
                          }
                        },
                        "type": "table"
                      }
                    ]
                  },
                  "layout": {
                    "annotationdefaults": {
                      "arrowcolor": "#2a3f5f",
                      "arrowhead": 0,
                      "arrowwidth": 1
                    },
                    "autotypenumbers": "strict",
                    "coloraxis": {
                      "colorbar": {
                        "outlinewidth": 0,
                        "ticks": ""
                      }
                    },
                    "colorscale": {
                      "diverging": [
                        [
                          0,
                          "#8e0152"
                        ],
                        [
                          0.1,
                          "#c51b7d"
                        ],
                        [
                          0.2,
                          "#de77ae"
                        ],
                        [
                          0.3,
                          "#f1b6da"
                        ],
                        [
                          0.4,
                          "#fde0ef"
                        ],
                        [
                          0.5,
                          "#f7f7f7"
                        ],
                        [
                          0.6,
                          "#e6f5d0"
                        ],
                        [
                          0.7,
                          "#b8e186"
                        ],
                        [
                          0.8,
                          "#7fbc41"
                        ],
                        [
                          0.9,
                          "#4d9221"
                        ],
                        [
                          1,
                          "#276419"
                        ]
                      ],
                      "sequential": [
                        [
                          0,
                          "#0d0887"
                        ],
                        [
                          0.1111111111111111,
                          "#46039f"
                        ],
                        [
                          0.2222222222222222,
                          "#7201a8"
                        ],
                        [
                          0.3333333333333333,
                          "#9c179e"
                        ],
                        [
                          0.4444444444444444,
                          "#bd3786"
                        ],
                        [
                          0.5555555555555556,
                          "#d8576b"
                        ],
                        [
                          0.6666666666666666,
                          "#ed7953"
                        ],
                        [
                          0.7777777777777778,
                          "#fb9f3a"
                        ],
                        [
                          0.8888888888888888,
                          "#fdca26"
                        ],
                        [
                          1,
                          "#f0f921"
                        ]
                      ],
                      "sequentialminus": [
                        [
                          0,
                          "#0d0887"
                        ],
                        [
                          0.1111111111111111,
                          "#46039f"
                        ],
                        [
                          0.2222222222222222,
                          "#7201a8"
                        ],
                        [
                          0.3333333333333333,
                          "#9c179e"
                        ],
                        [
                          0.4444444444444444,
                          "#bd3786"
                        ],
                        [
                          0.5555555555555556,
                          "#d8576b"
                        ],
                        [
                          0.6666666666666666,
                          "#ed7953"
                        ],
                        [
                          0.7777777777777778,
                          "#fb9f3a"
                        ],
                        [
                          0.8888888888888888,
                          "#fdca26"
                        ],
                        [
                          1,
                          "#f0f921"
                        ]
                      ]
                    },
                    "colorway": [
                      "#636efa",
                      "#EF553B",
                      "#00cc96",
                      "#ab63fa",
                      "#FFA15A",
                      "#19d3f3",
                      "#FF6692",
                      "#B6E880",
                      "#FF97FF",
                      "#FECB52"
                    ],
                    "font": {
                      "color": "#2a3f5f"
                    },
                    "geo": {
                      "bgcolor": "white",
                      "lakecolor": "white",
                      "landcolor": "#E5ECF6",
                      "showlakes": true,
                      "showland": true,
                      "subunitcolor": "white"
                    },
                    "hoverlabel": {
                      "align": "left"
                    },
                    "hovermode": "closest",
                    "mapbox": {
                      "style": "light"
                    },
                    "paper_bgcolor": "white",
                    "plot_bgcolor": "#E5ECF6",
                    "polar": {
                      "angularaxis": {
                        "gridcolor": "white",
                        "linecolor": "white",
                        "ticks": ""
                      },
                      "bgcolor": "#E5ECF6",
                      "radialaxis": {
                        "gridcolor": "white",
                        "linecolor": "white",
                        "ticks": ""
                      }
                    },
                    "scene": {
                      "xaxis": {
                        "backgroundcolor": "#E5ECF6",
                        "gridcolor": "white",
                        "gridwidth": 2,
                        "linecolor": "white",
                        "showbackground": true,
                        "ticks": "",
                        "zerolinecolor": "white"
                      },
                      "yaxis": {
                        "backgroundcolor": "#E5ECF6",
                        "gridcolor": "white",
                        "gridwidth": 2,
                        "linecolor": "white",
                        "showbackground": true,
                        "ticks": "",
                        "zerolinecolor": "white"
                      },
                      "zaxis": {
                        "backgroundcolor": "#E5ECF6",
                        "gridcolor": "white",
                        "gridwidth": 2,
                        "linecolor": "white",
                        "showbackground": true,
                        "ticks": "",
                        "zerolinecolor": "white"
                      }
                    },
                    "shapedefaults": {
                      "line": {
                        "color": "#2a3f5f"
                      }
                    },
                    "ternary": {
                      "aaxis": {
                        "gridcolor": "white",
                        "linecolor": "white",
                        "ticks": ""
                      },
                      "baxis": {
                        "gridcolor": "white",
                        "linecolor": "white",
                        "ticks": ""
                      },
                      "bgcolor": "#E5ECF6",
                      "caxis": {
                        "gridcolor": "white",
                        "linecolor": "white",
                        "ticks": ""
                      }
                    },
                    "title": {
                      "x": 0.05
                    },
                    "xaxis": {
                      "automargin": true,
                      "gridcolor": "white",
                      "linecolor": "white",
                      "ticks": "",
                      "title": {
                        "standoff": 15
                      },
                      "zerolinecolor": "white",
                      "zerolinewidth": 2
                    },
                    "yaxis": {
                      "automargin": true,
                      "gridcolor": "white",
                      "linecolor": "white",
                      "ticks": "",
                      "title": {
                        "standoff": 15
                      },
                      "zerolinecolor": "white",
                      "zerolinewidth": 2
                    }
                  }
                },
                "title": {
                  "font": {
                    "color": "black",
                    "size": 18
                  },
                  "text": "Class 1",
                  "x": 0.5,
                  "xanchor": "center",
                  "y": 0.9,
                  "yanchor": "top"
                },
                "width": 1000,
                "xaxis": {
                  "linecolor": "#000",
                  "linewidth": 1,
                  "showgrid": false,
                  "tickfont": {
                    "color": "black",
                    "size": 16
                  },
                  "ticks": "outside",
                  "tickwidth": 1,
                  "title": {
                    "font": {
                      "color": "black",
                      "size": 18
                    },
                    "text": "Time"
                  }
                },
                "yaxis": {
                  "linecolor": "#000",
                  "linewidth": 1,
                  "showgrid": false,
                  "tickfont": {
                    "color": "black",
                    "size": 16
                  },
                  "ticks": "outside",
                  "tickwidth": 1,
                  "title": {
                    "font": {
                      "color": "black",
                      "size": 18
                    },
                    "text": "Values"
                  },
                  "zeroline": false
                }
              }
            },
            "text/html": [
              "<div>                            <div id=\"ce0023d5-31f7-46d8-9643-080255385ed8\" class=\"plotly-graph-div\" style=\"height:400px; width:1000px;\"></div>            <script type=\"text/javascript\">                require([\"plotly\"], function(Plotly) {                    window.PLOTLYENV=window.PLOTLYENV || {};                                    if (document.getElementById(\"ce0023d5-31f7-46d8-9643-080255385ed8\")) {                    Plotly.newPlot(                        \"ce0023d5-31f7-46d8-9643-080255385ed8\",                        [{\"line\":{\"width\":3},\"name\":\"Time series 0\",\"x\":[0,1,2,3,4,5,6,7,8,9,10,11,12,13,14,15,16,17,18,19,20,21,22,23,24,25,26,27,28,29,30,31,32,33,34,35,36,37,38,39,40,41,42,43,44,45,46,47,48,49,50,51,52,53,54,55,56,57,58,59,60,61,62,63,64,65,66,67,68,69,70,71,72,73,74,75,76,77,78,79,80,81,82,83,84,85,86,87,88,89,90,91,92,93,94,95,96,97,98,99,100,101,102,103,104,105,106,107,108,109,110,111,112,113,114,115,116,117,118,119,120,121,122,123,124,125,126,127],\"y\":[-0.46427649,-0.55504787,-0.8428431,-0.86589548,-0.93639631,-0.81726995,-0.26361216,-1.2580483,-1.2503934,-0.91830825,-0.92210226,-0.98448828,-1.2880511,-1.14346,-1.0488611,-0.36538582,-0.6913952,-0.98055025,-0.99133601,-0.88708673,-1.109881,-0.7687248,-1.0102962,-0.84699606,-1.3277464,-0.7129093,-1.2977275,1.3314643,0.9357379,1.2360468,1.0560677,0.91074495,1.3713479,0.93705876,0.91029198,0.93108664,1.4937796,1.3192656,1.2190887,0.94836262,0.16902251,0.97739879,1.2301476,0.57156683,0.75134091,0.96185121,0.7813122,1.1044295,1.0003177,0.5507251,0.2688748,1.1255209,1.0758635,1.071738,1.1544819,0.75940186,0.1511864,1.0202768,1.2572739,1.007149,1.1624171,0.82999734,1.4850935,1.1050903,1.5393173,1.1156157,1.8913625,1.3900586,1.1566925,1.5148579,1.6335918,0.8102606,0.67666423,0.7093935,1.3614136,1.3123797,0.59160823,0.83192841,1.0970562,0.96495583,0.92592252,1.236138,1.1216699,0.934699,1.2165038,-1.6066345,-0.59477544,-0.75663256,-0.56605888,-0.64849922,-0.65649255,-0.53225104,-0.11504817,-0.57315237,-0.54118282,-0.70008673,-1.198927,-0.95269931,-0.99828204,-0.82499015,-0.38078029,-0.47659767,-0.60136144,-0.36936332,-1.2990449,-0.91839479,-1.2648127,-0.99193767,-0.80557657,-0.9209508,-0.36623347,-0.34636283,-1.0469164,-0.91466684,-0.91156991,-0.98677519,-1.2189544,-0.52962015,-1.3310856,-1.0837,-1.0179615,-0.91602872,-1.1342892,-0.92022369,-0.7893615,-0.63870583,-0.96366425,-1.2451691],\"type\":\"scatter\"}],                        {\"template\":{\"data\":{\"histogram2dcontour\":[{\"type\":\"histogram2dcontour\",\"colorbar\":{\"outlinewidth\":0,\"ticks\":\"\"},\"colorscale\":[[0.0,\"#0d0887\"],[0.1111111111111111,\"#46039f\"],[0.2222222222222222,\"#7201a8\"],[0.3333333333333333,\"#9c179e\"],[0.4444444444444444,\"#bd3786\"],[0.5555555555555556,\"#d8576b\"],[0.6666666666666666,\"#ed7953\"],[0.7777777777777778,\"#fb9f3a\"],[0.8888888888888888,\"#fdca26\"],[1.0,\"#f0f921\"]]}],\"choropleth\":[{\"type\":\"choropleth\",\"colorbar\":{\"outlinewidth\":0,\"ticks\":\"\"}}],\"histogram2d\":[{\"type\":\"histogram2d\",\"colorbar\":{\"outlinewidth\":0,\"ticks\":\"\"},\"colorscale\":[[0.0,\"#0d0887\"],[0.1111111111111111,\"#46039f\"],[0.2222222222222222,\"#7201a8\"],[0.3333333333333333,\"#9c179e\"],[0.4444444444444444,\"#bd3786\"],[0.5555555555555556,\"#d8576b\"],[0.6666666666666666,\"#ed7953\"],[0.7777777777777778,\"#fb9f3a\"],[0.8888888888888888,\"#fdca26\"],[1.0,\"#f0f921\"]]}],\"heatmap\":[{\"type\":\"heatmap\",\"colorbar\":{\"outlinewidth\":0,\"ticks\":\"\"},\"colorscale\":[[0.0,\"#0d0887\"],[0.1111111111111111,\"#46039f\"],[0.2222222222222222,\"#7201a8\"],[0.3333333333333333,\"#9c179e\"],[0.4444444444444444,\"#bd3786\"],[0.5555555555555556,\"#d8576b\"],[0.6666666666666666,\"#ed7953\"],[0.7777777777777778,\"#fb9f3a\"],[0.8888888888888888,\"#fdca26\"],[1.0,\"#f0f921\"]]}],\"heatmapgl\":[{\"type\":\"heatmapgl\",\"colorbar\":{\"outlinewidth\":0,\"ticks\":\"\"},\"colorscale\":[[0.0,\"#0d0887\"],[0.1111111111111111,\"#46039f\"],[0.2222222222222222,\"#7201a8\"],[0.3333333333333333,\"#9c179e\"],[0.4444444444444444,\"#bd3786\"],[0.5555555555555556,\"#d8576b\"],[0.6666666666666666,\"#ed7953\"],[0.7777777777777778,\"#fb9f3a\"],[0.8888888888888888,\"#fdca26\"],[1.0,\"#f0f921\"]]}],\"contourcarpet\":[{\"type\":\"contourcarpet\",\"colorbar\":{\"outlinewidth\":0,\"ticks\":\"\"}}],\"contour\":[{\"type\":\"contour\",\"colorbar\":{\"outlinewidth\":0,\"ticks\":\"\"},\"colorscale\":[[0.0,\"#0d0887\"],[0.1111111111111111,\"#46039f\"],[0.2222222222222222,\"#7201a8\"],[0.3333333333333333,\"#9c179e\"],[0.4444444444444444,\"#bd3786\"],[0.5555555555555556,\"#d8576b\"],[0.6666666666666666,\"#ed7953\"],[0.7777777777777778,\"#fb9f3a\"],[0.8888888888888888,\"#fdca26\"],[1.0,\"#f0f921\"]]}],\"surface\":[{\"type\":\"surface\",\"colorbar\":{\"outlinewidth\":0,\"ticks\":\"\"},\"colorscale\":[[0.0,\"#0d0887\"],[0.1111111111111111,\"#46039f\"],[0.2222222222222222,\"#7201a8\"],[0.3333333333333333,\"#9c179e\"],[0.4444444444444444,\"#bd3786\"],[0.5555555555555556,\"#d8576b\"],[0.6666666666666666,\"#ed7953\"],[0.7777777777777778,\"#fb9f3a\"],[0.8888888888888888,\"#fdca26\"],[1.0,\"#f0f921\"]]}],\"mesh3d\":[{\"type\":\"mesh3d\",\"colorbar\":{\"outlinewidth\":0,\"ticks\":\"\"}}],\"scatter\":[{\"fillpattern\":{\"fillmode\":\"overlay\",\"size\":10,\"solidity\":0.2},\"type\":\"scatter\"}],\"parcoords\":[{\"type\":\"parcoords\",\"line\":{\"colorbar\":{\"outlinewidth\":0,\"ticks\":\"\"}}}],\"scatterpolargl\":[{\"type\":\"scatterpolargl\",\"marker\":{\"colorbar\":{\"outlinewidth\":0,\"ticks\":\"\"}}}],\"bar\":[{\"error_x\":{\"color\":\"#2a3f5f\"},\"error_y\":{\"color\":\"#2a3f5f\"},\"marker\":{\"line\":{\"color\":\"#E5ECF6\",\"width\":0.5},\"pattern\":{\"fillmode\":\"overlay\",\"size\":10,\"solidity\":0.2}},\"type\":\"bar\"}],\"scattergeo\":[{\"type\":\"scattergeo\",\"marker\":{\"colorbar\":{\"outlinewidth\":0,\"ticks\":\"\"}}}],\"scatterpolar\":[{\"type\":\"scatterpolar\",\"marker\":{\"colorbar\":{\"outlinewidth\":0,\"ticks\":\"\"}}}],\"histogram\":[{\"marker\":{\"pattern\":{\"fillmode\":\"overlay\",\"size\":10,\"solidity\":0.2}},\"type\":\"histogram\"}],\"scattergl\":[{\"type\":\"scattergl\",\"marker\":{\"colorbar\":{\"outlinewidth\":0,\"ticks\":\"\"}}}],\"scatter3d\":[{\"type\":\"scatter3d\",\"line\":{\"colorbar\":{\"outlinewidth\":0,\"ticks\":\"\"}},\"marker\":{\"colorbar\":{\"outlinewidth\":0,\"ticks\":\"\"}}}],\"scattermapbox\":[{\"type\":\"scattermapbox\",\"marker\":{\"colorbar\":{\"outlinewidth\":0,\"ticks\":\"\"}}}],\"scatterternary\":[{\"type\":\"scatterternary\",\"marker\":{\"colorbar\":{\"outlinewidth\":0,\"ticks\":\"\"}}}],\"scattercarpet\":[{\"type\":\"scattercarpet\",\"marker\":{\"colorbar\":{\"outlinewidth\":0,\"ticks\":\"\"}}}],\"carpet\":[{\"aaxis\":{\"endlinecolor\":\"#2a3f5f\",\"gridcolor\":\"white\",\"linecolor\":\"white\",\"minorgridcolor\":\"white\",\"startlinecolor\":\"#2a3f5f\"},\"baxis\":{\"endlinecolor\":\"#2a3f5f\",\"gridcolor\":\"white\",\"linecolor\":\"white\",\"minorgridcolor\":\"white\",\"startlinecolor\":\"#2a3f5f\"},\"type\":\"carpet\"}],\"table\":[{\"cells\":{\"fill\":{\"color\":\"#EBF0F8\"},\"line\":{\"color\":\"white\"}},\"header\":{\"fill\":{\"color\":\"#C8D4E3\"},\"line\":{\"color\":\"white\"}},\"type\":\"table\"}],\"barpolar\":[{\"marker\":{\"line\":{\"color\":\"#E5ECF6\",\"width\":0.5},\"pattern\":{\"fillmode\":\"overlay\",\"size\":10,\"solidity\":0.2}},\"type\":\"barpolar\"}],\"pie\":[{\"automargin\":true,\"type\":\"pie\"}]},\"layout\":{\"autotypenumbers\":\"strict\",\"colorway\":[\"#636efa\",\"#EF553B\",\"#00cc96\",\"#ab63fa\",\"#FFA15A\",\"#19d3f3\",\"#FF6692\",\"#B6E880\",\"#FF97FF\",\"#FECB52\"],\"font\":{\"color\":\"#2a3f5f\"},\"hovermode\":\"closest\",\"hoverlabel\":{\"align\":\"left\"},\"paper_bgcolor\":\"white\",\"plot_bgcolor\":\"#E5ECF6\",\"polar\":{\"bgcolor\":\"#E5ECF6\",\"angularaxis\":{\"gridcolor\":\"white\",\"linecolor\":\"white\",\"ticks\":\"\"},\"radialaxis\":{\"gridcolor\":\"white\",\"linecolor\":\"white\",\"ticks\":\"\"}},\"ternary\":{\"bgcolor\":\"#E5ECF6\",\"aaxis\":{\"gridcolor\":\"white\",\"linecolor\":\"white\",\"ticks\":\"\"},\"baxis\":{\"gridcolor\":\"white\",\"linecolor\":\"white\",\"ticks\":\"\"},\"caxis\":{\"gridcolor\":\"white\",\"linecolor\":\"white\",\"ticks\":\"\"}},\"coloraxis\":{\"colorbar\":{\"outlinewidth\":0,\"ticks\":\"\"}},\"colorscale\":{\"sequential\":[[0.0,\"#0d0887\"],[0.1111111111111111,\"#46039f\"],[0.2222222222222222,\"#7201a8\"],[0.3333333333333333,\"#9c179e\"],[0.4444444444444444,\"#bd3786\"],[0.5555555555555556,\"#d8576b\"],[0.6666666666666666,\"#ed7953\"],[0.7777777777777778,\"#fb9f3a\"],[0.8888888888888888,\"#fdca26\"],[1.0,\"#f0f921\"]],\"sequentialminus\":[[0.0,\"#0d0887\"],[0.1111111111111111,\"#46039f\"],[0.2222222222222222,\"#7201a8\"],[0.3333333333333333,\"#9c179e\"],[0.4444444444444444,\"#bd3786\"],[0.5555555555555556,\"#d8576b\"],[0.6666666666666666,\"#ed7953\"],[0.7777777777777778,\"#fb9f3a\"],[0.8888888888888888,\"#fdca26\"],[1.0,\"#f0f921\"]],\"diverging\":[[0,\"#8e0152\"],[0.1,\"#c51b7d\"],[0.2,\"#de77ae\"],[0.3,\"#f1b6da\"],[0.4,\"#fde0ef\"],[0.5,\"#f7f7f7\"],[0.6,\"#e6f5d0\"],[0.7,\"#b8e186\"],[0.8,\"#7fbc41\"],[0.9,\"#4d9221\"],[1,\"#276419\"]]},\"xaxis\":{\"gridcolor\":\"white\",\"linecolor\":\"white\",\"ticks\":\"\",\"title\":{\"standoff\":15},\"zerolinecolor\":\"white\",\"automargin\":true,\"zerolinewidth\":2},\"yaxis\":{\"gridcolor\":\"white\",\"linecolor\":\"white\",\"ticks\":\"\",\"title\":{\"standoff\":15},\"zerolinecolor\":\"white\",\"automargin\":true,\"zerolinewidth\":2},\"scene\":{\"xaxis\":{\"backgroundcolor\":\"#E5ECF6\",\"gridcolor\":\"white\",\"linecolor\":\"white\",\"showbackground\":true,\"ticks\":\"\",\"zerolinecolor\":\"white\",\"gridwidth\":2},\"yaxis\":{\"backgroundcolor\":\"#E5ECF6\",\"gridcolor\":\"white\",\"linecolor\":\"white\",\"showbackground\":true,\"ticks\":\"\",\"zerolinecolor\":\"white\",\"gridwidth\":2},\"zaxis\":{\"backgroundcolor\":\"#E5ECF6\",\"gridcolor\":\"white\",\"linecolor\":\"white\",\"showbackground\":true,\"ticks\":\"\",\"zerolinecolor\":\"white\",\"gridwidth\":2}},\"shapedefaults\":{\"line\":{\"color\":\"#2a3f5f\"}},\"annotationdefaults\":{\"arrowcolor\":\"#2a3f5f\",\"arrowhead\":0,\"arrowwidth\":1},\"geo\":{\"bgcolor\":\"white\",\"landcolor\":\"#E5ECF6\",\"subunitcolor\":\"white\",\"showland\":true,\"showlakes\":true,\"lakecolor\":\"white\"},\"title\":{\"x\":0.05},\"mapbox\":{\"style\":\"light\"}}},\"xaxis\":{\"title\":{\"text\":\"Time\",\"font\":{\"size\":18,\"color\":\"black\"}},\"tickfont\":{\"size\":16,\"color\":\"black\"},\"showgrid\":false,\"linecolor\":\"#000\",\"ticks\":\"outside\",\"linewidth\":1,\"tickwidth\":1},\"yaxis\":{\"title\":{\"text\":\"Values\",\"font\":{\"size\":18,\"color\":\"black\"}},\"tickfont\":{\"size\":16,\"color\":\"black\"},\"showgrid\":false,\"linecolor\":\"#000\",\"ticks\":\"outside\",\"zeroline\":false,\"linewidth\":1,\"tickwidth\":1},\"title\":{\"font\":{\"size\":18,\"color\":\"black\"},\"text\":\"Class 1\",\"x\":0.5,\"y\":0.9,\"xanchor\":\"center\",\"yanchor\":\"top\"},\"legend\":{\"font\":{\"size\":16,\"color\":\"black\"}},\"plot_bgcolor\":\"rgba(0,0,0,0)\",\"width\":1000,\"height\":400},                        {\"responsive\": true}                    ).then(function(){\n",
              "                            \n",
              "var gd = document.getElementById('ce0023d5-31f7-46d8-9643-080255385ed8');\n",
              "var x = new MutationObserver(function (mutations, observer) {{\n",
              "        var display = window.getComputedStyle(gd).display;\n",
              "        if (!display || display === 'none') {{\n",
              "            console.log([gd, 'removed!']);\n",
              "            Plotly.purge(gd);\n",
              "            observer.disconnect();\n",
              "        }}\n",
              "}});\n",
              "\n",
              "// Listen for the removal of the full notebook cells\n",
              "var notebookContainer = gd.closest('#notebook-container');\n",
              "if (notebookContainer) {{\n",
              "    x.observe(notebookContainer, {childList: true});\n",
              "}}\n",
              "\n",
              "// Listen for the clearing of the current output cell\n",
              "var outputEl = gd.closest('.output');\n",
              "if (outputEl) {{\n",
              "    x.observe(outputEl, {childList: true});\n",
              "}}\n",
              "\n",
              "                        })                };                });            </script>        </div>"
            ]
          },
          "metadata": {},
          "output_type": "display_data"
        },
        {
          "data": {
            "application/vnd.plotly.v1+json": {
              "config": {
                "plotlyServerURL": "https://plot.ly"
              },
              "data": [
                {
                  "line": {
                    "width": 3
                  },
                  "name": "Time series 0",
                  "type": "scatter",
                  "x": [
                    0,
                    1,
                    2,
                    3,
                    4,
                    5,
                    6,
                    7,
                    8,
                    9,
                    10,
                    11,
                    12,
                    13,
                    14,
                    15,
                    16,
                    17,
                    18,
                    19,
                    20,
                    21,
                    22,
                    23,
                    24,
                    25,
                    26,
                    27,
                    28,
                    29,
                    30,
                    31,
                    32,
                    33,
                    34,
                    35,
                    36,
                    37,
                    38,
                    39,
                    40,
                    41,
                    42,
                    43,
                    44,
                    45,
                    46,
                    47,
                    48,
                    49,
                    50,
                    51,
                    52,
                    53,
                    54,
                    55,
                    56,
                    57,
                    58,
                    59,
                    60,
                    61,
                    62,
                    63,
                    64,
                    65,
                    66,
                    67,
                    68,
                    69,
                    70,
                    71,
                    72,
                    73,
                    74,
                    75,
                    76,
                    77,
                    78,
                    79,
                    80,
                    81,
                    82,
                    83,
                    84,
                    85,
                    86,
                    87,
                    88,
                    89,
                    90,
                    91,
                    92,
                    93,
                    94,
                    95,
                    96,
                    97,
                    98,
                    99,
                    100,
                    101,
                    102,
                    103,
                    104,
                    105,
                    106,
                    107,
                    108,
                    109,
                    110,
                    111,
                    112,
                    113,
                    114,
                    115,
                    116,
                    117,
                    118,
                    119,
                    120,
                    121,
                    122,
                    123,
                    124,
                    125,
                    126,
                    127
                  ],
                  "y": [
                    -1.1360166,
                    -1.3191953,
                    -1.8446238,
                    -0.78869178,
                    -0.2517154,
                    -1.4876032,
                    -0.66876407,
                    -0.34036037,
                    -1.0463815,
                    -0.31221353,
                    -1.0314417,
                    -1.200578,
                    -0.65047603,
                    -1.6195842,
                    -0.41275132,
                    -1.0506705,
                    -1.1751243,
                    -0.42783798,
                    -1.2002837,
                    -0.58726538,
                    -1.1734667,
                    -0.31876559,
                    -1.7099666,
                    -1.6916216,
                    -1.0547829,
                    -1.3315449,
                    -0.68978191,
                    -0.74499051,
                    -0.98390993,
                    -1.191218,
                    -0.54900341,
                    0.58491821,
                    -0.59228439,
                    -0.7627931,
                    -0.28296076,
                    -0.43538394,
                    0.12619921,
                    -0.32895937,
                    -1.4540955,
                    -0.52808624,
                    -0.090953766,
                    0.079060275,
                    -1.1441439,
                    -1.0339176,
                    -0.45585968,
                    -0.53545457,
                    -0.1334809,
                    -0.23433913,
                    0.05169767,
                    0.70200814,
                    0.23651687,
                    0.45185518,
                    -0.72237534,
                    -1.2432526,
                    0.46189042,
                    0.53188484,
                    0.36115854,
                    0.035405192,
                    0.31540263,
                    0.53942624,
                    0.18157946,
                    -0.38117853,
                    -0.038683201,
                    0.58428663,
                    -0.32397229,
                    0.028542624,
                    -0.11024854,
                    -0.090853585,
                    0.34444066,
                    0.29367315,
                    0.76985943,
                    0.46189843,
                    0.25674241,
                    1.1647008,
                    0.61771557,
                    -0.2402001,
                    0.67361208,
                    0.20979055,
                    0.75110981,
                    1.0555208,
                    -0.019858418,
                    0.41397862,
                    0.95529261,
                    0.30307209,
                    0.22678269,
                    1.2696688,
                    1.0237819,
                    0.61068148,
                    0.62766564,
                    0.80483652,
                    1.2576258,
                    0.27824332,
                    1.0116593,
                    0.9481706,
                    1.3131494,
                    1.0568914,
                    0.86802673,
                    0.67285114,
                    1.1699006,
                    2.1533316,
                    1.7303024,
                    1.7757813,
                    1.3131522,
                    1.7217679,
                    1.3942813,
                    1.6833179,
                    1.6204521,
                    1.0843436,
                    1.2366574,
                    1.5008807,
                    1.2621757,
                    1.4077033,
                    1.0258798,
                    1.9108007,
                    1.5197333,
                    1.5488365,
                    1.8204821,
                    -1.5965186,
                    -1.182911,
                    -1.0735136,
                    -1.6113624,
                    -1.0643404,
                    -0.97073635,
                    -0.82728087,
                    -0.95353773,
                    -1.2701854,
                    -1.7427579,
                    -0.92594391
                  ]
                }
              ],
              "layout": {
                "height": 400,
                "legend": {
                  "font": {
                    "color": "black",
                    "size": 16
                  }
                },
                "plot_bgcolor": "rgba(0,0,0,0)",
                "template": {
                  "data": {
                    "bar": [
                      {
                        "error_x": {
                          "color": "#2a3f5f"
                        },
                        "error_y": {
                          "color": "#2a3f5f"
                        },
                        "marker": {
                          "line": {
                            "color": "#E5ECF6",
                            "width": 0.5
                          },
                          "pattern": {
                            "fillmode": "overlay",
                            "size": 10,
                            "solidity": 0.2
                          }
                        },
                        "type": "bar"
                      }
                    ],
                    "barpolar": [
                      {
                        "marker": {
                          "line": {
                            "color": "#E5ECF6",
                            "width": 0.5
                          },
                          "pattern": {
                            "fillmode": "overlay",
                            "size": 10,
                            "solidity": 0.2
                          }
                        },
                        "type": "barpolar"
                      }
                    ],
                    "carpet": [
                      {
                        "aaxis": {
                          "endlinecolor": "#2a3f5f",
                          "gridcolor": "white",
                          "linecolor": "white",
                          "minorgridcolor": "white",
                          "startlinecolor": "#2a3f5f"
                        },
                        "baxis": {
                          "endlinecolor": "#2a3f5f",
                          "gridcolor": "white",
                          "linecolor": "white",
                          "minorgridcolor": "white",
                          "startlinecolor": "#2a3f5f"
                        },
                        "type": "carpet"
                      }
                    ],
                    "choropleth": [
                      {
                        "colorbar": {
                          "outlinewidth": 0,
                          "ticks": ""
                        },
                        "type": "choropleth"
                      }
                    ],
                    "contour": [
                      {
                        "colorbar": {
                          "outlinewidth": 0,
                          "ticks": ""
                        },
                        "colorscale": [
                          [
                            0,
                            "#0d0887"
                          ],
                          [
                            0.1111111111111111,
                            "#46039f"
                          ],
                          [
                            0.2222222222222222,
                            "#7201a8"
                          ],
                          [
                            0.3333333333333333,
                            "#9c179e"
                          ],
                          [
                            0.4444444444444444,
                            "#bd3786"
                          ],
                          [
                            0.5555555555555556,
                            "#d8576b"
                          ],
                          [
                            0.6666666666666666,
                            "#ed7953"
                          ],
                          [
                            0.7777777777777778,
                            "#fb9f3a"
                          ],
                          [
                            0.8888888888888888,
                            "#fdca26"
                          ],
                          [
                            1,
                            "#f0f921"
                          ]
                        ],
                        "type": "contour"
                      }
                    ],
                    "contourcarpet": [
                      {
                        "colorbar": {
                          "outlinewidth": 0,
                          "ticks": ""
                        },
                        "type": "contourcarpet"
                      }
                    ],
                    "heatmap": [
                      {
                        "colorbar": {
                          "outlinewidth": 0,
                          "ticks": ""
                        },
                        "colorscale": [
                          [
                            0,
                            "#0d0887"
                          ],
                          [
                            0.1111111111111111,
                            "#46039f"
                          ],
                          [
                            0.2222222222222222,
                            "#7201a8"
                          ],
                          [
                            0.3333333333333333,
                            "#9c179e"
                          ],
                          [
                            0.4444444444444444,
                            "#bd3786"
                          ],
                          [
                            0.5555555555555556,
                            "#d8576b"
                          ],
                          [
                            0.6666666666666666,
                            "#ed7953"
                          ],
                          [
                            0.7777777777777778,
                            "#fb9f3a"
                          ],
                          [
                            0.8888888888888888,
                            "#fdca26"
                          ],
                          [
                            1,
                            "#f0f921"
                          ]
                        ],
                        "type": "heatmap"
                      }
                    ],
                    "heatmapgl": [
                      {
                        "colorbar": {
                          "outlinewidth": 0,
                          "ticks": ""
                        },
                        "colorscale": [
                          [
                            0,
                            "#0d0887"
                          ],
                          [
                            0.1111111111111111,
                            "#46039f"
                          ],
                          [
                            0.2222222222222222,
                            "#7201a8"
                          ],
                          [
                            0.3333333333333333,
                            "#9c179e"
                          ],
                          [
                            0.4444444444444444,
                            "#bd3786"
                          ],
                          [
                            0.5555555555555556,
                            "#d8576b"
                          ],
                          [
                            0.6666666666666666,
                            "#ed7953"
                          ],
                          [
                            0.7777777777777778,
                            "#fb9f3a"
                          ],
                          [
                            0.8888888888888888,
                            "#fdca26"
                          ],
                          [
                            1,
                            "#f0f921"
                          ]
                        ],
                        "type": "heatmapgl"
                      }
                    ],
                    "histogram": [
                      {
                        "marker": {
                          "pattern": {
                            "fillmode": "overlay",
                            "size": 10,
                            "solidity": 0.2
                          }
                        },
                        "type": "histogram"
                      }
                    ],
                    "histogram2d": [
                      {
                        "colorbar": {
                          "outlinewidth": 0,
                          "ticks": ""
                        },
                        "colorscale": [
                          [
                            0,
                            "#0d0887"
                          ],
                          [
                            0.1111111111111111,
                            "#46039f"
                          ],
                          [
                            0.2222222222222222,
                            "#7201a8"
                          ],
                          [
                            0.3333333333333333,
                            "#9c179e"
                          ],
                          [
                            0.4444444444444444,
                            "#bd3786"
                          ],
                          [
                            0.5555555555555556,
                            "#d8576b"
                          ],
                          [
                            0.6666666666666666,
                            "#ed7953"
                          ],
                          [
                            0.7777777777777778,
                            "#fb9f3a"
                          ],
                          [
                            0.8888888888888888,
                            "#fdca26"
                          ],
                          [
                            1,
                            "#f0f921"
                          ]
                        ],
                        "type": "histogram2d"
                      }
                    ],
                    "histogram2dcontour": [
                      {
                        "colorbar": {
                          "outlinewidth": 0,
                          "ticks": ""
                        },
                        "colorscale": [
                          [
                            0,
                            "#0d0887"
                          ],
                          [
                            0.1111111111111111,
                            "#46039f"
                          ],
                          [
                            0.2222222222222222,
                            "#7201a8"
                          ],
                          [
                            0.3333333333333333,
                            "#9c179e"
                          ],
                          [
                            0.4444444444444444,
                            "#bd3786"
                          ],
                          [
                            0.5555555555555556,
                            "#d8576b"
                          ],
                          [
                            0.6666666666666666,
                            "#ed7953"
                          ],
                          [
                            0.7777777777777778,
                            "#fb9f3a"
                          ],
                          [
                            0.8888888888888888,
                            "#fdca26"
                          ],
                          [
                            1,
                            "#f0f921"
                          ]
                        ],
                        "type": "histogram2dcontour"
                      }
                    ],
                    "mesh3d": [
                      {
                        "colorbar": {
                          "outlinewidth": 0,
                          "ticks": ""
                        },
                        "type": "mesh3d"
                      }
                    ],
                    "parcoords": [
                      {
                        "line": {
                          "colorbar": {
                            "outlinewidth": 0,
                            "ticks": ""
                          }
                        },
                        "type": "parcoords"
                      }
                    ],
                    "pie": [
                      {
                        "automargin": true,
                        "type": "pie"
                      }
                    ],
                    "scatter": [
                      {
                        "fillpattern": {
                          "fillmode": "overlay",
                          "size": 10,
                          "solidity": 0.2
                        },
                        "type": "scatter"
                      }
                    ],
                    "scatter3d": [
                      {
                        "line": {
                          "colorbar": {
                            "outlinewidth": 0,
                            "ticks": ""
                          }
                        },
                        "marker": {
                          "colorbar": {
                            "outlinewidth": 0,
                            "ticks": ""
                          }
                        },
                        "type": "scatter3d"
                      }
                    ],
                    "scattercarpet": [
                      {
                        "marker": {
                          "colorbar": {
                            "outlinewidth": 0,
                            "ticks": ""
                          }
                        },
                        "type": "scattercarpet"
                      }
                    ],
                    "scattergeo": [
                      {
                        "marker": {
                          "colorbar": {
                            "outlinewidth": 0,
                            "ticks": ""
                          }
                        },
                        "type": "scattergeo"
                      }
                    ],
                    "scattergl": [
                      {
                        "marker": {
                          "colorbar": {
                            "outlinewidth": 0,
                            "ticks": ""
                          }
                        },
                        "type": "scattergl"
                      }
                    ],
                    "scattermapbox": [
                      {
                        "marker": {
                          "colorbar": {
                            "outlinewidth": 0,
                            "ticks": ""
                          }
                        },
                        "type": "scattermapbox"
                      }
                    ],
                    "scatterpolar": [
                      {
                        "marker": {
                          "colorbar": {
                            "outlinewidth": 0,
                            "ticks": ""
                          }
                        },
                        "type": "scatterpolar"
                      }
                    ],
                    "scatterpolargl": [
                      {
                        "marker": {
                          "colorbar": {
                            "outlinewidth": 0,
                            "ticks": ""
                          }
                        },
                        "type": "scatterpolargl"
                      }
                    ],
                    "scatterternary": [
                      {
                        "marker": {
                          "colorbar": {
                            "outlinewidth": 0,
                            "ticks": ""
                          }
                        },
                        "type": "scatterternary"
                      }
                    ],
                    "surface": [
                      {
                        "colorbar": {
                          "outlinewidth": 0,
                          "ticks": ""
                        },
                        "colorscale": [
                          [
                            0,
                            "#0d0887"
                          ],
                          [
                            0.1111111111111111,
                            "#46039f"
                          ],
                          [
                            0.2222222222222222,
                            "#7201a8"
                          ],
                          [
                            0.3333333333333333,
                            "#9c179e"
                          ],
                          [
                            0.4444444444444444,
                            "#bd3786"
                          ],
                          [
                            0.5555555555555556,
                            "#d8576b"
                          ],
                          [
                            0.6666666666666666,
                            "#ed7953"
                          ],
                          [
                            0.7777777777777778,
                            "#fb9f3a"
                          ],
                          [
                            0.8888888888888888,
                            "#fdca26"
                          ],
                          [
                            1,
                            "#f0f921"
                          ]
                        ],
                        "type": "surface"
                      }
                    ],
                    "table": [
                      {
                        "cells": {
                          "fill": {
                            "color": "#EBF0F8"
                          },
                          "line": {
                            "color": "white"
                          }
                        },
                        "header": {
                          "fill": {
                            "color": "#C8D4E3"
                          },
                          "line": {
                            "color": "white"
                          }
                        },
                        "type": "table"
                      }
                    ]
                  },
                  "layout": {
                    "annotationdefaults": {
                      "arrowcolor": "#2a3f5f",
                      "arrowhead": 0,
                      "arrowwidth": 1
                    },
                    "autotypenumbers": "strict",
                    "coloraxis": {
                      "colorbar": {
                        "outlinewidth": 0,
                        "ticks": ""
                      }
                    },
                    "colorscale": {
                      "diverging": [
                        [
                          0,
                          "#8e0152"
                        ],
                        [
                          0.1,
                          "#c51b7d"
                        ],
                        [
                          0.2,
                          "#de77ae"
                        ],
                        [
                          0.3,
                          "#f1b6da"
                        ],
                        [
                          0.4,
                          "#fde0ef"
                        ],
                        [
                          0.5,
                          "#f7f7f7"
                        ],
                        [
                          0.6,
                          "#e6f5d0"
                        ],
                        [
                          0.7,
                          "#b8e186"
                        ],
                        [
                          0.8,
                          "#7fbc41"
                        ],
                        [
                          0.9,
                          "#4d9221"
                        ],
                        [
                          1,
                          "#276419"
                        ]
                      ],
                      "sequential": [
                        [
                          0,
                          "#0d0887"
                        ],
                        [
                          0.1111111111111111,
                          "#46039f"
                        ],
                        [
                          0.2222222222222222,
                          "#7201a8"
                        ],
                        [
                          0.3333333333333333,
                          "#9c179e"
                        ],
                        [
                          0.4444444444444444,
                          "#bd3786"
                        ],
                        [
                          0.5555555555555556,
                          "#d8576b"
                        ],
                        [
                          0.6666666666666666,
                          "#ed7953"
                        ],
                        [
                          0.7777777777777778,
                          "#fb9f3a"
                        ],
                        [
                          0.8888888888888888,
                          "#fdca26"
                        ],
                        [
                          1,
                          "#f0f921"
                        ]
                      ],
                      "sequentialminus": [
                        [
                          0,
                          "#0d0887"
                        ],
                        [
                          0.1111111111111111,
                          "#46039f"
                        ],
                        [
                          0.2222222222222222,
                          "#7201a8"
                        ],
                        [
                          0.3333333333333333,
                          "#9c179e"
                        ],
                        [
                          0.4444444444444444,
                          "#bd3786"
                        ],
                        [
                          0.5555555555555556,
                          "#d8576b"
                        ],
                        [
                          0.6666666666666666,
                          "#ed7953"
                        ],
                        [
                          0.7777777777777778,
                          "#fb9f3a"
                        ],
                        [
                          0.8888888888888888,
                          "#fdca26"
                        ],
                        [
                          1,
                          "#f0f921"
                        ]
                      ]
                    },
                    "colorway": [
                      "#636efa",
                      "#EF553B",
                      "#00cc96",
                      "#ab63fa",
                      "#FFA15A",
                      "#19d3f3",
                      "#FF6692",
                      "#B6E880",
                      "#FF97FF",
                      "#FECB52"
                    ],
                    "font": {
                      "color": "#2a3f5f"
                    },
                    "geo": {
                      "bgcolor": "white",
                      "lakecolor": "white",
                      "landcolor": "#E5ECF6",
                      "showlakes": true,
                      "showland": true,
                      "subunitcolor": "white"
                    },
                    "hoverlabel": {
                      "align": "left"
                    },
                    "hovermode": "closest",
                    "mapbox": {
                      "style": "light"
                    },
                    "paper_bgcolor": "white",
                    "plot_bgcolor": "#E5ECF6",
                    "polar": {
                      "angularaxis": {
                        "gridcolor": "white",
                        "linecolor": "white",
                        "ticks": ""
                      },
                      "bgcolor": "#E5ECF6",
                      "radialaxis": {
                        "gridcolor": "white",
                        "linecolor": "white",
                        "ticks": ""
                      }
                    },
                    "scene": {
                      "xaxis": {
                        "backgroundcolor": "#E5ECF6",
                        "gridcolor": "white",
                        "gridwidth": 2,
                        "linecolor": "white",
                        "showbackground": true,
                        "ticks": "",
                        "zerolinecolor": "white"
                      },
                      "yaxis": {
                        "backgroundcolor": "#E5ECF6",
                        "gridcolor": "white",
                        "gridwidth": 2,
                        "linecolor": "white",
                        "showbackground": true,
                        "ticks": "",
                        "zerolinecolor": "white"
                      },
                      "zaxis": {
                        "backgroundcolor": "#E5ECF6",
                        "gridcolor": "white",
                        "gridwidth": 2,
                        "linecolor": "white",
                        "showbackground": true,
                        "ticks": "",
                        "zerolinecolor": "white"
                      }
                    },
                    "shapedefaults": {
                      "line": {
                        "color": "#2a3f5f"
                      }
                    },
                    "ternary": {
                      "aaxis": {
                        "gridcolor": "white",
                        "linecolor": "white",
                        "ticks": ""
                      },
                      "baxis": {
                        "gridcolor": "white",
                        "linecolor": "white",
                        "ticks": ""
                      },
                      "bgcolor": "#E5ECF6",
                      "caxis": {
                        "gridcolor": "white",
                        "linecolor": "white",
                        "ticks": ""
                      }
                    },
                    "title": {
                      "x": 0.05
                    },
                    "xaxis": {
                      "automargin": true,
                      "gridcolor": "white",
                      "linecolor": "white",
                      "ticks": "",
                      "title": {
                        "standoff": 15
                      },
                      "zerolinecolor": "white",
                      "zerolinewidth": 2
                    },
                    "yaxis": {
                      "automargin": true,
                      "gridcolor": "white",
                      "linecolor": "white",
                      "ticks": "",
                      "title": {
                        "standoff": 15
                      },
                      "zerolinecolor": "white",
                      "zerolinewidth": 2
                    }
                  }
                },
                "title": {
                  "font": {
                    "color": "black",
                    "size": 18
                  },
                  "text": "Class 2",
                  "x": 0.5,
                  "xanchor": "center",
                  "y": 0.9,
                  "yanchor": "top"
                },
                "width": 1000,
                "xaxis": {
                  "linecolor": "#000",
                  "linewidth": 1,
                  "showgrid": false,
                  "tickfont": {
                    "color": "black",
                    "size": 16
                  },
                  "ticks": "outside",
                  "tickwidth": 1,
                  "title": {
                    "font": {
                      "color": "black",
                      "size": 18
                    },
                    "text": "Time"
                  }
                },
                "yaxis": {
                  "linecolor": "#000",
                  "linewidth": 1,
                  "showgrid": false,
                  "tickfont": {
                    "color": "black",
                    "size": 16
                  },
                  "ticks": "outside",
                  "tickwidth": 1,
                  "title": {
                    "font": {
                      "color": "black",
                      "size": 18
                    },
                    "text": "Values"
                  },
                  "zeroline": false
                }
              }
            },
            "text/html": [
              "<div>                            <div id=\"2585e6ba-d8ff-4539-89cd-fcb9971ee5fc\" class=\"plotly-graph-div\" style=\"height:400px; width:1000px;\"></div>            <script type=\"text/javascript\">                require([\"plotly\"], function(Plotly) {                    window.PLOTLYENV=window.PLOTLYENV || {};                                    if (document.getElementById(\"2585e6ba-d8ff-4539-89cd-fcb9971ee5fc\")) {                    Plotly.newPlot(                        \"2585e6ba-d8ff-4539-89cd-fcb9971ee5fc\",                        [{\"line\":{\"width\":3},\"name\":\"Time series 0\",\"x\":[0,1,2,3,4,5,6,7,8,9,10,11,12,13,14,15,16,17,18,19,20,21,22,23,24,25,26,27,28,29,30,31,32,33,34,35,36,37,38,39,40,41,42,43,44,45,46,47,48,49,50,51,52,53,54,55,56,57,58,59,60,61,62,63,64,65,66,67,68,69,70,71,72,73,74,75,76,77,78,79,80,81,82,83,84,85,86,87,88,89,90,91,92,93,94,95,96,97,98,99,100,101,102,103,104,105,106,107,108,109,110,111,112,113,114,115,116,117,118,119,120,121,122,123,124,125,126,127],\"y\":[-1.1360166,-1.3191953,-1.8446238,-0.78869178,-0.2517154,-1.4876032,-0.66876407,-0.34036037,-1.0463815,-0.31221353,-1.0314417,-1.200578,-0.65047603,-1.6195842,-0.41275132,-1.0506705,-1.1751243,-0.42783798,-1.2002837,-0.58726538,-1.1734667,-0.31876559,-1.7099666,-1.6916216,-1.0547829,-1.3315449,-0.68978191,-0.74499051,-0.98390993,-1.191218,-0.54900341,0.58491821,-0.59228439,-0.7627931,-0.28296076,-0.43538394,0.12619921,-0.32895937,-1.4540955,-0.52808624,-0.090953766,0.079060275,-1.1441439,-1.0339176,-0.45585968,-0.53545457,-0.1334809,-0.23433913,0.05169767,0.70200814,0.23651687,0.45185518,-0.72237534,-1.2432526,0.46189042,0.53188484,0.36115854,0.035405192,0.31540263,0.53942624,0.18157946,-0.38117853,-0.038683201,0.58428663,-0.32397229,0.028542624,-0.11024854,-0.090853585,0.34444066,0.29367315,0.76985943,0.46189843,0.25674241,1.1647008,0.61771557,-0.2402001,0.67361208,0.20979055,0.75110981,1.0555208,-0.019858418,0.41397862,0.95529261,0.30307209,0.22678269,1.2696688,1.0237819,0.61068148,0.62766564,0.80483652,1.2576258,0.27824332,1.0116593,0.9481706,1.3131494,1.0568914,0.86802673,0.67285114,1.1699006,2.1533316,1.7303024,1.7757813,1.3131522,1.7217679,1.3942813,1.6833179,1.6204521,1.0843436,1.2366574,1.5008807,1.2621757,1.4077033,1.0258798,1.9108007,1.5197333,1.5488365,1.8204821,-1.5965186,-1.182911,-1.0735136,-1.6113624,-1.0643404,-0.97073635,-0.82728087,-0.95353773,-1.2701854,-1.7427579,-0.92594391],\"type\":\"scatter\"}],                        {\"template\":{\"data\":{\"histogram2dcontour\":[{\"type\":\"histogram2dcontour\",\"colorbar\":{\"outlinewidth\":0,\"ticks\":\"\"},\"colorscale\":[[0.0,\"#0d0887\"],[0.1111111111111111,\"#46039f\"],[0.2222222222222222,\"#7201a8\"],[0.3333333333333333,\"#9c179e\"],[0.4444444444444444,\"#bd3786\"],[0.5555555555555556,\"#d8576b\"],[0.6666666666666666,\"#ed7953\"],[0.7777777777777778,\"#fb9f3a\"],[0.8888888888888888,\"#fdca26\"],[1.0,\"#f0f921\"]]}],\"choropleth\":[{\"type\":\"choropleth\",\"colorbar\":{\"outlinewidth\":0,\"ticks\":\"\"}}],\"histogram2d\":[{\"type\":\"histogram2d\",\"colorbar\":{\"outlinewidth\":0,\"ticks\":\"\"},\"colorscale\":[[0.0,\"#0d0887\"],[0.1111111111111111,\"#46039f\"],[0.2222222222222222,\"#7201a8\"],[0.3333333333333333,\"#9c179e\"],[0.4444444444444444,\"#bd3786\"],[0.5555555555555556,\"#d8576b\"],[0.6666666666666666,\"#ed7953\"],[0.7777777777777778,\"#fb9f3a\"],[0.8888888888888888,\"#fdca26\"],[1.0,\"#f0f921\"]]}],\"heatmap\":[{\"type\":\"heatmap\",\"colorbar\":{\"outlinewidth\":0,\"ticks\":\"\"},\"colorscale\":[[0.0,\"#0d0887\"],[0.1111111111111111,\"#46039f\"],[0.2222222222222222,\"#7201a8\"],[0.3333333333333333,\"#9c179e\"],[0.4444444444444444,\"#bd3786\"],[0.5555555555555556,\"#d8576b\"],[0.6666666666666666,\"#ed7953\"],[0.7777777777777778,\"#fb9f3a\"],[0.8888888888888888,\"#fdca26\"],[1.0,\"#f0f921\"]]}],\"heatmapgl\":[{\"type\":\"heatmapgl\",\"colorbar\":{\"outlinewidth\":0,\"ticks\":\"\"},\"colorscale\":[[0.0,\"#0d0887\"],[0.1111111111111111,\"#46039f\"],[0.2222222222222222,\"#7201a8\"],[0.3333333333333333,\"#9c179e\"],[0.4444444444444444,\"#bd3786\"],[0.5555555555555556,\"#d8576b\"],[0.6666666666666666,\"#ed7953\"],[0.7777777777777778,\"#fb9f3a\"],[0.8888888888888888,\"#fdca26\"],[1.0,\"#f0f921\"]]}],\"contourcarpet\":[{\"type\":\"contourcarpet\",\"colorbar\":{\"outlinewidth\":0,\"ticks\":\"\"}}],\"contour\":[{\"type\":\"contour\",\"colorbar\":{\"outlinewidth\":0,\"ticks\":\"\"},\"colorscale\":[[0.0,\"#0d0887\"],[0.1111111111111111,\"#46039f\"],[0.2222222222222222,\"#7201a8\"],[0.3333333333333333,\"#9c179e\"],[0.4444444444444444,\"#bd3786\"],[0.5555555555555556,\"#d8576b\"],[0.6666666666666666,\"#ed7953\"],[0.7777777777777778,\"#fb9f3a\"],[0.8888888888888888,\"#fdca26\"],[1.0,\"#f0f921\"]]}],\"surface\":[{\"type\":\"surface\",\"colorbar\":{\"outlinewidth\":0,\"ticks\":\"\"},\"colorscale\":[[0.0,\"#0d0887\"],[0.1111111111111111,\"#46039f\"],[0.2222222222222222,\"#7201a8\"],[0.3333333333333333,\"#9c179e\"],[0.4444444444444444,\"#bd3786\"],[0.5555555555555556,\"#d8576b\"],[0.6666666666666666,\"#ed7953\"],[0.7777777777777778,\"#fb9f3a\"],[0.8888888888888888,\"#fdca26\"],[1.0,\"#f0f921\"]]}],\"mesh3d\":[{\"type\":\"mesh3d\",\"colorbar\":{\"outlinewidth\":0,\"ticks\":\"\"}}],\"scatter\":[{\"fillpattern\":{\"fillmode\":\"overlay\",\"size\":10,\"solidity\":0.2},\"type\":\"scatter\"}],\"parcoords\":[{\"type\":\"parcoords\",\"line\":{\"colorbar\":{\"outlinewidth\":0,\"ticks\":\"\"}}}],\"scatterpolargl\":[{\"type\":\"scatterpolargl\",\"marker\":{\"colorbar\":{\"outlinewidth\":0,\"ticks\":\"\"}}}],\"bar\":[{\"error_x\":{\"color\":\"#2a3f5f\"},\"error_y\":{\"color\":\"#2a3f5f\"},\"marker\":{\"line\":{\"color\":\"#E5ECF6\",\"width\":0.5},\"pattern\":{\"fillmode\":\"overlay\",\"size\":10,\"solidity\":0.2}},\"type\":\"bar\"}],\"scattergeo\":[{\"type\":\"scattergeo\",\"marker\":{\"colorbar\":{\"outlinewidth\":0,\"ticks\":\"\"}}}],\"scatterpolar\":[{\"type\":\"scatterpolar\",\"marker\":{\"colorbar\":{\"outlinewidth\":0,\"ticks\":\"\"}}}],\"histogram\":[{\"marker\":{\"pattern\":{\"fillmode\":\"overlay\",\"size\":10,\"solidity\":0.2}},\"type\":\"histogram\"}],\"scattergl\":[{\"type\":\"scattergl\",\"marker\":{\"colorbar\":{\"outlinewidth\":0,\"ticks\":\"\"}}}],\"scatter3d\":[{\"type\":\"scatter3d\",\"line\":{\"colorbar\":{\"outlinewidth\":0,\"ticks\":\"\"}},\"marker\":{\"colorbar\":{\"outlinewidth\":0,\"ticks\":\"\"}}}],\"scattermapbox\":[{\"type\":\"scattermapbox\",\"marker\":{\"colorbar\":{\"outlinewidth\":0,\"ticks\":\"\"}}}],\"scatterternary\":[{\"type\":\"scatterternary\",\"marker\":{\"colorbar\":{\"outlinewidth\":0,\"ticks\":\"\"}}}],\"scattercarpet\":[{\"type\":\"scattercarpet\",\"marker\":{\"colorbar\":{\"outlinewidth\":0,\"ticks\":\"\"}}}],\"carpet\":[{\"aaxis\":{\"endlinecolor\":\"#2a3f5f\",\"gridcolor\":\"white\",\"linecolor\":\"white\",\"minorgridcolor\":\"white\",\"startlinecolor\":\"#2a3f5f\"},\"baxis\":{\"endlinecolor\":\"#2a3f5f\",\"gridcolor\":\"white\",\"linecolor\":\"white\",\"minorgridcolor\":\"white\",\"startlinecolor\":\"#2a3f5f\"},\"type\":\"carpet\"}],\"table\":[{\"cells\":{\"fill\":{\"color\":\"#EBF0F8\"},\"line\":{\"color\":\"white\"}},\"header\":{\"fill\":{\"color\":\"#C8D4E3\"},\"line\":{\"color\":\"white\"}},\"type\":\"table\"}],\"barpolar\":[{\"marker\":{\"line\":{\"color\":\"#E5ECF6\",\"width\":0.5},\"pattern\":{\"fillmode\":\"overlay\",\"size\":10,\"solidity\":0.2}},\"type\":\"barpolar\"}],\"pie\":[{\"automargin\":true,\"type\":\"pie\"}]},\"layout\":{\"autotypenumbers\":\"strict\",\"colorway\":[\"#636efa\",\"#EF553B\",\"#00cc96\",\"#ab63fa\",\"#FFA15A\",\"#19d3f3\",\"#FF6692\",\"#B6E880\",\"#FF97FF\",\"#FECB52\"],\"font\":{\"color\":\"#2a3f5f\"},\"hovermode\":\"closest\",\"hoverlabel\":{\"align\":\"left\"},\"paper_bgcolor\":\"white\",\"plot_bgcolor\":\"#E5ECF6\",\"polar\":{\"bgcolor\":\"#E5ECF6\",\"angularaxis\":{\"gridcolor\":\"white\",\"linecolor\":\"white\",\"ticks\":\"\"},\"radialaxis\":{\"gridcolor\":\"white\",\"linecolor\":\"white\",\"ticks\":\"\"}},\"ternary\":{\"bgcolor\":\"#E5ECF6\",\"aaxis\":{\"gridcolor\":\"white\",\"linecolor\":\"white\",\"ticks\":\"\"},\"baxis\":{\"gridcolor\":\"white\",\"linecolor\":\"white\",\"ticks\":\"\"},\"caxis\":{\"gridcolor\":\"white\",\"linecolor\":\"white\",\"ticks\":\"\"}},\"coloraxis\":{\"colorbar\":{\"outlinewidth\":0,\"ticks\":\"\"}},\"colorscale\":{\"sequential\":[[0.0,\"#0d0887\"],[0.1111111111111111,\"#46039f\"],[0.2222222222222222,\"#7201a8\"],[0.3333333333333333,\"#9c179e\"],[0.4444444444444444,\"#bd3786\"],[0.5555555555555556,\"#d8576b\"],[0.6666666666666666,\"#ed7953\"],[0.7777777777777778,\"#fb9f3a\"],[0.8888888888888888,\"#fdca26\"],[1.0,\"#f0f921\"]],\"sequentialminus\":[[0.0,\"#0d0887\"],[0.1111111111111111,\"#46039f\"],[0.2222222222222222,\"#7201a8\"],[0.3333333333333333,\"#9c179e\"],[0.4444444444444444,\"#bd3786\"],[0.5555555555555556,\"#d8576b\"],[0.6666666666666666,\"#ed7953\"],[0.7777777777777778,\"#fb9f3a\"],[0.8888888888888888,\"#fdca26\"],[1.0,\"#f0f921\"]],\"diverging\":[[0,\"#8e0152\"],[0.1,\"#c51b7d\"],[0.2,\"#de77ae\"],[0.3,\"#f1b6da\"],[0.4,\"#fde0ef\"],[0.5,\"#f7f7f7\"],[0.6,\"#e6f5d0\"],[0.7,\"#b8e186\"],[0.8,\"#7fbc41\"],[0.9,\"#4d9221\"],[1,\"#276419\"]]},\"xaxis\":{\"gridcolor\":\"white\",\"linecolor\":\"white\",\"ticks\":\"\",\"title\":{\"standoff\":15},\"zerolinecolor\":\"white\",\"automargin\":true,\"zerolinewidth\":2},\"yaxis\":{\"gridcolor\":\"white\",\"linecolor\":\"white\",\"ticks\":\"\",\"title\":{\"standoff\":15},\"zerolinecolor\":\"white\",\"automargin\":true,\"zerolinewidth\":2},\"scene\":{\"xaxis\":{\"backgroundcolor\":\"#E5ECF6\",\"gridcolor\":\"white\",\"linecolor\":\"white\",\"showbackground\":true,\"ticks\":\"\",\"zerolinecolor\":\"white\",\"gridwidth\":2},\"yaxis\":{\"backgroundcolor\":\"#E5ECF6\",\"gridcolor\":\"white\",\"linecolor\":\"white\",\"showbackground\":true,\"ticks\":\"\",\"zerolinecolor\":\"white\",\"gridwidth\":2},\"zaxis\":{\"backgroundcolor\":\"#E5ECF6\",\"gridcolor\":\"white\",\"linecolor\":\"white\",\"showbackground\":true,\"ticks\":\"\",\"zerolinecolor\":\"white\",\"gridwidth\":2}},\"shapedefaults\":{\"line\":{\"color\":\"#2a3f5f\"}},\"annotationdefaults\":{\"arrowcolor\":\"#2a3f5f\",\"arrowhead\":0,\"arrowwidth\":1},\"geo\":{\"bgcolor\":\"white\",\"landcolor\":\"#E5ECF6\",\"subunitcolor\":\"white\",\"showland\":true,\"showlakes\":true,\"lakecolor\":\"white\"},\"title\":{\"x\":0.05},\"mapbox\":{\"style\":\"light\"}}},\"xaxis\":{\"title\":{\"text\":\"Time\",\"font\":{\"size\":18,\"color\":\"black\"}},\"tickfont\":{\"size\":16,\"color\":\"black\"},\"showgrid\":false,\"linecolor\":\"#000\",\"ticks\":\"outside\",\"linewidth\":1,\"tickwidth\":1},\"yaxis\":{\"title\":{\"text\":\"Values\",\"font\":{\"size\":18,\"color\":\"black\"}},\"tickfont\":{\"size\":16,\"color\":\"black\"},\"showgrid\":false,\"linecolor\":\"#000\",\"ticks\":\"outside\",\"zeroline\":false,\"linewidth\":1,\"tickwidth\":1},\"title\":{\"font\":{\"size\":18,\"color\":\"black\"},\"text\":\"Class 2\",\"x\":0.5,\"y\":0.9,\"xanchor\":\"center\",\"yanchor\":\"top\"},\"legend\":{\"font\":{\"size\":16,\"color\":\"black\"}},\"plot_bgcolor\":\"rgba(0,0,0,0)\",\"width\":1000,\"height\":400},                        {\"responsive\": true}                    ).then(function(){\n",
              "                            \n",
              "var gd = document.getElementById('2585e6ba-d8ff-4539-89cd-fcb9971ee5fc');\n",
              "var x = new MutationObserver(function (mutations, observer) {{\n",
              "        var display = window.getComputedStyle(gd).display;\n",
              "        if (!display || display === 'none') {{\n",
              "            console.log([gd, 'removed!']);\n",
              "            Plotly.purge(gd);\n",
              "            observer.disconnect();\n",
              "        }}\n",
              "}});\n",
              "\n",
              "// Listen for the removal of the full notebook cells\n",
              "var notebookContainer = gd.closest('#notebook-container');\n",
              "if (notebookContainer) {{\n",
              "    x.observe(notebookContainer, {childList: true});\n",
              "}}\n",
              "\n",
              "// Listen for the clearing of the current output cell\n",
              "var outputEl = gd.closest('.output');\n",
              "if (outputEl) {{\n",
              "    x.observe(outputEl, {childList: true});\n",
              "}}\n",
              "\n",
              "                        })                };                });            </script>        </div>"
            ]
          },
          "metadata": {},
          "output_type": "display_data"
        },
        {
          "data": {
            "application/vnd.plotly.v1+json": {
              "config": {
                "plotlyServerURL": "https://plot.ly"
              },
              "data": [
                {
                  "line": {
                    "width": 3
                  },
                  "name": "Time series 0",
                  "type": "scatter",
                  "x": [
                    0,
                    1,
                    2,
                    3,
                    4,
                    5,
                    6,
                    7,
                    8,
                    9,
                    10,
                    11,
                    12,
                    13,
                    14,
                    15,
                    16,
                    17,
                    18,
                    19,
                    20,
                    21,
                    22,
                    23,
                    24,
                    25,
                    26,
                    27,
                    28,
                    29,
                    30,
                    31,
                    32,
                    33,
                    34,
                    35,
                    36,
                    37,
                    38,
                    39,
                    40,
                    41,
                    42,
                    43,
                    44,
                    45,
                    46,
                    47,
                    48,
                    49,
                    50,
                    51,
                    52,
                    53,
                    54,
                    55,
                    56,
                    57,
                    58,
                    59,
                    60,
                    61,
                    62,
                    63,
                    64,
                    65,
                    66,
                    67,
                    68,
                    69,
                    70,
                    71,
                    72,
                    73,
                    74,
                    75,
                    76,
                    77,
                    78,
                    79,
                    80,
                    81,
                    82,
                    83,
                    84,
                    85,
                    86,
                    87,
                    88,
                    89,
                    90,
                    91,
                    92,
                    93,
                    94,
                    95,
                    96,
                    97,
                    98,
                    99,
                    100,
                    101,
                    102,
                    103,
                    104,
                    105,
                    106,
                    107,
                    108,
                    109,
                    110,
                    111,
                    112,
                    113,
                    114,
                    115,
                    116,
                    117,
                    118,
                    119,
                    120,
                    121,
                    122,
                    123,
                    124,
                    125,
                    126,
                    127
                  ],
                  "y": [
                    -0.18718975,
                    -0.62080772,
                    -0.8156607,
                    -0.52139796,
                    -0.7904229,
                    -0.96751744,
                    -1.4870063,
                    -0.27788714,
                    -0.83507474,
                    0.050591042,
                    -0.81116835,
                    -1.2260083,
                    -0.66836044,
                    -0.7766806,
                    0.064061697,
                    -1.2536498,
                    -0.78899054,
                    -0.93422178,
                    -1.093595,
                    -0.60790424,
                    -0.70272797,
                    0.018322662,
                    2.9755749,
                    2.6772836,
                    2.3958002,
                    1.4215092,
                    1.977175,
                    2.5777637,
                    1.7979973,
                    2.0809778,
                    2.4283404,
                    2.0555506,
                    1.8967239,
                    1.5432423,
                    1.4445971,
                    1.8116056,
                    1.9956928,
                    1.2824535,
                    1.1622186,
                    0.63753639,
                    1.1706085,
                    1.9631356,
                    0.77109913,
                    1.3564084,
                    1.0688878,
                    0.96622252,
                    0.63150802,
                    1.3243248,
                    0.57754829,
                    0.61924619,
                    0.70973118,
                    0.71686112,
                    0.064235197,
                    0.7860755,
                    0.4293552,
                    -0.12929447,
                    0.26692621,
                    -0.22292191,
                    -0.52256375,
                    -0.1557771,
                    -0.98339485,
                    -0.17329176,
                    -0.1129916,
                    0.068609936,
                    0.062064246,
                    -0.98737725,
                    -0.15782312,
                    -0.87530832,
                    -0.66774572,
                    -0.75006786,
                    -0.64379824,
                    -0.22634059,
                    -1.0331616,
                    -1.097429,
                    -0.079633469,
                    -0.69675432,
                    -0.12881874,
                    -0.38258671,
                    -0.62352101,
                    0.082143312,
                    -0.60174991,
                    -0.80802295,
                    -0.68654657,
                    -0.75632934,
                    0.25401883,
                    0.16849676,
                    -0.89879383,
                    0.31496567,
                    -0.64039093,
                    0.054908869,
                    -1.0610227,
                    -0.11451285,
                    -0.42844578,
                    -0.22686661,
                    -0.54112199,
                    -0.53973069,
                    -0.14083218,
                    -1.0528451,
                    -0.031281577,
                    -0.29194234,
                    -0.33121468,
                    -0.84529663,
                    -0.32301285,
                    -1.7707148,
                    -0.35247098,
                    -0.80546958,
                    -1.1035997,
                    0.0432535,
                    -0.14961907,
                    -0.11649553,
                    -0.30163771,
                    0.68454403,
                    -0.86974124,
                    -0.23256939,
                    -0.099145246,
                    -0.62664079,
                    -0.67594493,
                    -0.13114944,
                    -0.90861539,
                    -0.72628649,
                    0.18377755,
                    -0.73744409,
                    -1.1139967,
                    -0.39398661,
                    -0.5878895,
                    -0.60823187,
                    -0.63646459,
                    -0.34902865
                  ]
                }
              ],
              "layout": {
                "height": 400,
                "legend": {
                  "font": {
                    "color": "black",
                    "size": 16
                  }
                },
                "plot_bgcolor": "rgba(0,0,0,0)",
                "template": {
                  "data": {
                    "bar": [
                      {
                        "error_x": {
                          "color": "#2a3f5f"
                        },
                        "error_y": {
                          "color": "#2a3f5f"
                        },
                        "marker": {
                          "line": {
                            "color": "#E5ECF6",
                            "width": 0.5
                          },
                          "pattern": {
                            "fillmode": "overlay",
                            "size": 10,
                            "solidity": 0.2
                          }
                        },
                        "type": "bar"
                      }
                    ],
                    "barpolar": [
                      {
                        "marker": {
                          "line": {
                            "color": "#E5ECF6",
                            "width": 0.5
                          },
                          "pattern": {
                            "fillmode": "overlay",
                            "size": 10,
                            "solidity": 0.2
                          }
                        },
                        "type": "barpolar"
                      }
                    ],
                    "carpet": [
                      {
                        "aaxis": {
                          "endlinecolor": "#2a3f5f",
                          "gridcolor": "white",
                          "linecolor": "white",
                          "minorgridcolor": "white",
                          "startlinecolor": "#2a3f5f"
                        },
                        "baxis": {
                          "endlinecolor": "#2a3f5f",
                          "gridcolor": "white",
                          "linecolor": "white",
                          "minorgridcolor": "white",
                          "startlinecolor": "#2a3f5f"
                        },
                        "type": "carpet"
                      }
                    ],
                    "choropleth": [
                      {
                        "colorbar": {
                          "outlinewidth": 0,
                          "ticks": ""
                        },
                        "type": "choropleth"
                      }
                    ],
                    "contour": [
                      {
                        "colorbar": {
                          "outlinewidth": 0,
                          "ticks": ""
                        },
                        "colorscale": [
                          [
                            0,
                            "#0d0887"
                          ],
                          [
                            0.1111111111111111,
                            "#46039f"
                          ],
                          [
                            0.2222222222222222,
                            "#7201a8"
                          ],
                          [
                            0.3333333333333333,
                            "#9c179e"
                          ],
                          [
                            0.4444444444444444,
                            "#bd3786"
                          ],
                          [
                            0.5555555555555556,
                            "#d8576b"
                          ],
                          [
                            0.6666666666666666,
                            "#ed7953"
                          ],
                          [
                            0.7777777777777778,
                            "#fb9f3a"
                          ],
                          [
                            0.8888888888888888,
                            "#fdca26"
                          ],
                          [
                            1,
                            "#f0f921"
                          ]
                        ],
                        "type": "contour"
                      }
                    ],
                    "contourcarpet": [
                      {
                        "colorbar": {
                          "outlinewidth": 0,
                          "ticks": ""
                        },
                        "type": "contourcarpet"
                      }
                    ],
                    "heatmap": [
                      {
                        "colorbar": {
                          "outlinewidth": 0,
                          "ticks": ""
                        },
                        "colorscale": [
                          [
                            0,
                            "#0d0887"
                          ],
                          [
                            0.1111111111111111,
                            "#46039f"
                          ],
                          [
                            0.2222222222222222,
                            "#7201a8"
                          ],
                          [
                            0.3333333333333333,
                            "#9c179e"
                          ],
                          [
                            0.4444444444444444,
                            "#bd3786"
                          ],
                          [
                            0.5555555555555556,
                            "#d8576b"
                          ],
                          [
                            0.6666666666666666,
                            "#ed7953"
                          ],
                          [
                            0.7777777777777778,
                            "#fb9f3a"
                          ],
                          [
                            0.8888888888888888,
                            "#fdca26"
                          ],
                          [
                            1,
                            "#f0f921"
                          ]
                        ],
                        "type": "heatmap"
                      }
                    ],
                    "heatmapgl": [
                      {
                        "colorbar": {
                          "outlinewidth": 0,
                          "ticks": ""
                        },
                        "colorscale": [
                          [
                            0,
                            "#0d0887"
                          ],
                          [
                            0.1111111111111111,
                            "#46039f"
                          ],
                          [
                            0.2222222222222222,
                            "#7201a8"
                          ],
                          [
                            0.3333333333333333,
                            "#9c179e"
                          ],
                          [
                            0.4444444444444444,
                            "#bd3786"
                          ],
                          [
                            0.5555555555555556,
                            "#d8576b"
                          ],
                          [
                            0.6666666666666666,
                            "#ed7953"
                          ],
                          [
                            0.7777777777777778,
                            "#fb9f3a"
                          ],
                          [
                            0.8888888888888888,
                            "#fdca26"
                          ],
                          [
                            1,
                            "#f0f921"
                          ]
                        ],
                        "type": "heatmapgl"
                      }
                    ],
                    "histogram": [
                      {
                        "marker": {
                          "pattern": {
                            "fillmode": "overlay",
                            "size": 10,
                            "solidity": 0.2
                          }
                        },
                        "type": "histogram"
                      }
                    ],
                    "histogram2d": [
                      {
                        "colorbar": {
                          "outlinewidth": 0,
                          "ticks": ""
                        },
                        "colorscale": [
                          [
                            0,
                            "#0d0887"
                          ],
                          [
                            0.1111111111111111,
                            "#46039f"
                          ],
                          [
                            0.2222222222222222,
                            "#7201a8"
                          ],
                          [
                            0.3333333333333333,
                            "#9c179e"
                          ],
                          [
                            0.4444444444444444,
                            "#bd3786"
                          ],
                          [
                            0.5555555555555556,
                            "#d8576b"
                          ],
                          [
                            0.6666666666666666,
                            "#ed7953"
                          ],
                          [
                            0.7777777777777778,
                            "#fb9f3a"
                          ],
                          [
                            0.8888888888888888,
                            "#fdca26"
                          ],
                          [
                            1,
                            "#f0f921"
                          ]
                        ],
                        "type": "histogram2d"
                      }
                    ],
                    "histogram2dcontour": [
                      {
                        "colorbar": {
                          "outlinewidth": 0,
                          "ticks": ""
                        },
                        "colorscale": [
                          [
                            0,
                            "#0d0887"
                          ],
                          [
                            0.1111111111111111,
                            "#46039f"
                          ],
                          [
                            0.2222222222222222,
                            "#7201a8"
                          ],
                          [
                            0.3333333333333333,
                            "#9c179e"
                          ],
                          [
                            0.4444444444444444,
                            "#bd3786"
                          ],
                          [
                            0.5555555555555556,
                            "#d8576b"
                          ],
                          [
                            0.6666666666666666,
                            "#ed7953"
                          ],
                          [
                            0.7777777777777778,
                            "#fb9f3a"
                          ],
                          [
                            0.8888888888888888,
                            "#fdca26"
                          ],
                          [
                            1,
                            "#f0f921"
                          ]
                        ],
                        "type": "histogram2dcontour"
                      }
                    ],
                    "mesh3d": [
                      {
                        "colorbar": {
                          "outlinewidth": 0,
                          "ticks": ""
                        },
                        "type": "mesh3d"
                      }
                    ],
                    "parcoords": [
                      {
                        "line": {
                          "colorbar": {
                            "outlinewidth": 0,
                            "ticks": ""
                          }
                        },
                        "type": "parcoords"
                      }
                    ],
                    "pie": [
                      {
                        "automargin": true,
                        "type": "pie"
                      }
                    ],
                    "scatter": [
                      {
                        "fillpattern": {
                          "fillmode": "overlay",
                          "size": 10,
                          "solidity": 0.2
                        },
                        "type": "scatter"
                      }
                    ],
                    "scatter3d": [
                      {
                        "line": {
                          "colorbar": {
                            "outlinewidth": 0,
                            "ticks": ""
                          }
                        },
                        "marker": {
                          "colorbar": {
                            "outlinewidth": 0,
                            "ticks": ""
                          }
                        },
                        "type": "scatter3d"
                      }
                    ],
                    "scattercarpet": [
                      {
                        "marker": {
                          "colorbar": {
                            "outlinewidth": 0,
                            "ticks": ""
                          }
                        },
                        "type": "scattercarpet"
                      }
                    ],
                    "scattergeo": [
                      {
                        "marker": {
                          "colorbar": {
                            "outlinewidth": 0,
                            "ticks": ""
                          }
                        },
                        "type": "scattergeo"
                      }
                    ],
                    "scattergl": [
                      {
                        "marker": {
                          "colorbar": {
                            "outlinewidth": 0,
                            "ticks": ""
                          }
                        },
                        "type": "scattergl"
                      }
                    ],
                    "scattermapbox": [
                      {
                        "marker": {
                          "colorbar": {
                            "outlinewidth": 0,
                            "ticks": ""
                          }
                        },
                        "type": "scattermapbox"
                      }
                    ],
                    "scatterpolar": [
                      {
                        "marker": {
                          "colorbar": {
                            "outlinewidth": 0,
                            "ticks": ""
                          }
                        },
                        "type": "scatterpolar"
                      }
                    ],
                    "scatterpolargl": [
                      {
                        "marker": {
                          "colorbar": {
                            "outlinewidth": 0,
                            "ticks": ""
                          }
                        },
                        "type": "scatterpolargl"
                      }
                    ],
                    "scatterternary": [
                      {
                        "marker": {
                          "colorbar": {
                            "outlinewidth": 0,
                            "ticks": ""
                          }
                        },
                        "type": "scatterternary"
                      }
                    ],
                    "surface": [
                      {
                        "colorbar": {
                          "outlinewidth": 0,
                          "ticks": ""
                        },
                        "colorscale": [
                          [
                            0,
                            "#0d0887"
                          ],
                          [
                            0.1111111111111111,
                            "#46039f"
                          ],
                          [
                            0.2222222222222222,
                            "#7201a8"
                          ],
                          [
                            0.3333333333333333,
                            "#9c179e"
                          ],
                          [
                            0.4444444444444444,
                            "#bd3786"
                          ],
                          [
                            0.5555555555555556,
                            "#d8576b"
                          ],
                          [
                            0.6666666666666666,
                            "#ed7953"
                          ],
                          [
                            0.7777777777777778,
                            "#fb9f3a"
                          ],
                          [
                            0.8888888888888888,
                            "#fdca26"
                          ],
                          [
                            1,
                            "#f0f921"
                          ]
                        ],
                        "type": "surface"
                      }
                    ],
                    "table": [
                      {
                        "cells": {
                          "fill": {
                            "color": "#EBF0F8"
                          },
                          "line": {
                            "color": "white"
                          }
                        },
                        "header": {
                          "fill": {
                            "color": "#C8D4E3"
                          },
                          "line": {
                            "color": "white"
                          }
                        },
                        "type": "table"
                      }
                    ]
                  },
                  "layout": {
                    "annotationdefaults": {
                      "arrowcolor": "#2a3f5f",
                      "arrowhead": 0,
                      "arrowwidth": 1
                    },
                    "autotypenumbers": "strict",
                    "coloraxis": {
                      "colorbar": {
                        "outlinewidth": 0,
                        "ticks": ""
                      }
                    },
                    "colorscale": {
                      "diverging": [
                        [
                          0,
                          "#8e0152"
                        ],
                        [
                          0.1,
                          "#c51b7d"
                        ],
                        [
                          0.2,
                          "#de77ae"
                        ],
                        [
                          0.3,
                          "#f1b6da"
                        ],
                        [
                          0.4,
                          "#fde0ef"
                        ],
                        [
                          0.5,
                          "#f7f7f7"
                        ],
                        [
                          0.6,
                          "#e6f5d0"
                        ],
                        [
                          0.7,
                          "#b8e186"
                        ],
                        [
                          0.8,
                          "#7fbc41"
                        ],
                        [
                          0.9,
                          "#4d9221"
                        ],
                        [
                          1,
                          "#276419"
                        ]
                      ],
                      "sequential": [
                        [
                          0,
                          "#0d0887"
                        ],
                        [
                          0.1111111111111111,
                          "#46039f"
                        ],
                        [
                          0.2222222222222222,
                          "#7201a8"
                        ],
                        [
                          0.3333333333333333,
                          "#9c179e"
                        ],
                        [
                          0.4444444444444444,
                          "#bd3786"
                        ],
                        [
                          0.5555555555555556,
                          "#d8576b"
                        ],
                        [
                          0.6666666666666666,
                          "#ed7953"
                        ],
                        [
                          0.7777777777777778,
                          "#fb9f3a"
                        ],
                        [
                          0.8888888888888888,
                          "#fdca26"
                        ],
                        [
                          1,
                          "#f0f921"
                        ]
                      ],
                      "sequentialminus": [
                        [
                          0,
                          "#0d0887"
                        ],
                        [
                          0.1111111111111111,
                          "#46039f"
                        ],
                        [
                          0.2222222222222222,
                          "#7201a8"
                        ],
                        [
                          0.3333333333333333,
                          "#9c179e"
                        ],
                        [
                          0.4444444444444444,
                          "#bd3786"
                        ],
                        [
                          0.5555555555555556,
                          "#d8576b"
                        ],
                        [
                          0.6666666666666666,
                          "#ed7953"
                        ],
                        [
                          0.7777777777777778,
                          "#fb9f3a"
                        ],
                        [
                          0.8888888888888888,
                          "#fdca26"
                        ],
                        [
                          1,
                          "#f0f921"
                        ]
                      ]
                    },
                    "colorway": [
                      "#636efa",
                      "#EF553B",
                      "#00cc96",
                      "#ab63fa",
                      "#FFA15A",
                      "#19d3f3",
                      "#FF6692",
                      "#B6E880",
                      "#FF97FF",
                      "#FECB52"
                    ],
                    "font": {
                      "color": "#2a3f5f"
                    },
                    "geo": {
                      "bgcolor": "white",
                      "lakecolor": "white",
                      "landcolor": "#E5ECF6",
                      "showlakes": true,
                      "showland": true,
                      "subunitcolor": "white"
                    },
                    "hoverlabel": {
                      "align": "left"
                    },
                    "hovermode": "closest",
                    "mapbox": {
                      "style": "light"
                    },
                    "paper_bgcolor": "white",
                    "plot_bgcolor": "#E5ECF6",
                    "polar": {
                      "angularaxis": {
                        "gridcolor": "white",
                        "linecolor": "white",
                        "ticks": ""
                      },
                      "bgcolor": "#E5ECF6",
                      "radialaxis": {
                        "gridcolor": "white",
                        "linecolor": "white",
                        "ticks": ""
                      }
                    },
                    "scene": {
                      "xaxis": {
                        "backgroundcolor": "#E5ECF6",
                        "gridcolor": "white",
                        "gridwidth": 2,
                        "linecolor": "white",
                        "showbackground": true,
                        "ticks": "",
                        "zerolinecolor": "white"
                      },
                      "yaxis": {
                        "backgroundcolor": "#E5ECF6",
                        "gridcolor": "white",
                        "gridwidth": 2,
                        "linecolor": "white",
                        "showbackground": true,
                        "ticks": "",
                        "zerolinecolor": "white"
                      },
                      "zaxis": {
                        "backgroundcolor": "#E5ECF6",
                        "gridcolor": "white",
                        "gridwidth": 2,
                        "linecolor": "white",
                        "showbackground": true,
                        "ticks": "",
                        "zerolinecolor": "white"
                      }
                    },
                    "shapedefaults": {
                      "line": {
                        "color": "#2a3f5f"
                      }
                    },
                    "ternary": {
                      "aaxis": {
                        "gridcolor": "white",
                        "linecolor": "white",
                        "ticks": ""
                      },
                      "baxis": {
                        "gridcolor": "white",
                        "linecolor": "white",
                        "ticks": ""
                      },
                      "bgcolor": "#E5ECF6",
                      "caxis": {
                        "gridcolor": "white",
                        "linecolor": "white",
                        "ticks": ""
                      }
                    },
                    "title": {
                      "x": 0.05
                    },
                    "xaxis": {
                      "automargin": true,
                      "gridcolor": "white",
                      "linecolor": "white",
                      "ticks": "",
                      "title": {
                        "standoff": 15
                      },
                      "zerolinecolor": "white",
                      "zerolinewidth": 2
                    },
                    "yaxis": {
                      "automargin": true,
                      "gridcolor": "white",
                      "linecolor": "white",
                      "ticks": "",
                      "title": {
                        "standoff": 15
                      },
                      "zerolinecolor": "white",
                      "zerolinewidth": 2
                    }
                  }
                },
                "title": {
                  "font": {
                    "color": "black",
                    "size": 18
                  },
                  "text": "Class 3",
                  "x": 0.5,
                  "xanchor": "center",
                  "y": 0.9,
                  "yanchor": "top"
                },
                "width": 1000,
                "xaxis": {
                  "linecolor": "#000",
                  "linewidth": 1,
                  "showgrid": false,
                  "tickfont": {
                    "color": "black",
                    "size": 16
                  },
                  "ticks": "outside",
                  "tickwidth": 1,
                  "title": {
                    "font": {
                      "color": "black",
                      "size": 18
                    },
                    "text": "Time"
                  }
                },
                "yaxis": {
                  "linecolor": "#000",
                  "linewidth": 1,
                  "showgrid": false,
                  "tickfont": {
                    "color": "black",
                    "size": 16
                  },
                  "ticks": "outside",
                  "tickwidth": 1,
                  "title": {
                    "font": {
                      "color": "black",
                      "size": 18
                    },
                    "text": "Values"
                  },
                  "zeroline": false
                }
              }
            },
            "text/html": [
              "<div>                            <div id=\"80d29d6c-3f4f-4dea-9ae4-f18af6f44bf9\" class=\"plotly-graph-div\" style=\"height:400px; width:1000px;\"></div>            <script type=\"text/javascript\">                require([\"plotly\"], function(Plotly) {                    window.PLOTLYENV=window.PLOTLYENV || {};                                    if (document.getElementById(\"80d29d6c-3f4f-4dea-9ae4-f18af6f44bf9\")) {                    Plotly.newPlot(                        \"80d29d6c-3f4f-4dea-9ae4-f18af6f44bf9\",                        [{\"line\":{\"width\":3},\"name\":\"Time series 0\",\"x\":[0,1,2,3,4,5,6,7,8,9,10,11,12,13,14,15,16,17,18,19,20,21,22,23,24,25,26,27,28,29,30,31,32,33,34,35,36,37,38,39,40,41,42,43,44,45,46,47,48,49,50,51,52,53,54,55,56,57,58,59,60,61,62,63,64,65,66,67,68,69,70,71,72,73,74,75,76,77,78,79,80,81,82,83,84,85,86,87,88,89,90,91,92,93,94,95,96,97,98,99,100,101,102,103,104,105,106,107,108,109,110,111,112,113,114,115,116,117,118,119,120,121,122,123,124,125,126,127],\"y\":[-0.18718975,-0.62080772,-0.8156607,-0.52139796,-0.7904229,-0.96751744,-1.4870063,-0.27788714,-0.83507474,0.050591042,-0.81116835,-1.2260083,-0.66836044,-0.7766806,0.064061697,-1.2536498,-0.78899054,-0.93422178,-1.093595,-0.60790424,-0.70272797,0.018322662,2.9755749,2.6772836,2.3958002,1.4215092,1.977175,2.5777637,1.7979973,2.0809778,2.4283404,2.0555506,1.8967239,1.5432423,1.4445971,1.8116056,1.9956928,1.2824535,1.1622186,0.63753639,1.1706085,1.9631356,0.77109913,1.3564084,1.0688878,0.96622252,0.63150802,1.3243248,0.57754829,0.61924619,0.70973118,0.71686112,0.064235197,0.7860755,0.4293552,-0.12929447,0.26692621,-0.22292191,-0.52256375,-0.1557771,-0.98339485,-0.17329176,-0.1129916,0.068609936,0.062064246,-0.98737725,-0.15782312,-0.87530832,-0.66774572,-0.75006786,-0.64379824,-0.22634059,-1.0331616,-1.097429,-0.079633469,-0.69675432,-0.12881874,-0.38258671,-0.62352101,0.082143312,-0.60174991,-0.80802295,-0.68654657,-0.75632934,0.25401883,0.16849676,-0.89879383,0.31496567,-0.64039093,0.054908869,-1.0610227,-0.11451285,-0.42844578,-0.22686661,-0.54112199,-0.53973069,-0.14083218,-1.0528451,-0.031281577,-0.29194234,-0.33121468,-0.84529663,-0.32301285,-1.7707148,-0.35247098,-0.80546958,-1.1035997,0.0432535,-0.14961907,-0.11649553,-0.30163771,0.68454403,-0.86974124,-0.23256939,-0.099145246,-0.62664079,-0.67594493,-0.13114944,-0.90861539,-0.72628649,0.18377755,-0.73744409,-1.1139967,-0.39398661,-0.5878895,-0.60823187,-0.63646459,-0.34902865],\"type\":\"scatter\"}],                        {\"template\":{\"data\":{\"histogram2dcontour\":[{\"type\":\"histogram2dcontour\",\"colorbar\":{\"outlinewidth\":0,\"ticks\":\"\"},\"colorscale\":[[0.0,\"#0d0887\"],[0.1111111111111111,\"#46039f\"],[0.2222222222222222,\"#7201a8\"],[0.3333333333333333,\"#9c179e\"],[0.4444444444444444,\"#bd3786\"],[0.5555555555555556,\"#d8576b\"],[0.6666666666666666,\"#ed7953\"],[0.7777777777777778,\"#fb9f3a\"],[0.8888888888888888,\"#fdca26\"],[1.0,\"#f0f921\"]]}],\"choropleth\":[{\"type\":\"choropleth\",\"colorbar\":{\"outlinewidth\":0,\"ticks\":\"\"}}],\"histogram2d\":[{\"type\":\"histogram2d\",\"colorbar\":{\"outlinewidth\":0,\"ticks\":\"\"},\"colorscale\":[[0.0,\"#0d0887\"],[0.1111111111111111,\"#46039f\"],[0.2222222222222222,\"#7201a8\"],[0.3333333333333333,\"#9c179e\"],[0.4444444444444444,\"#bd3786\"],[0.5555555555555556,\"#d8576b\"],[0.6666666666666666,\"#ed7953\"],[0.7777777777777778,\"#fb9f3a\"],[0.8888888888888888,\"#fdca26\"],[1.0,\"#f0f921\"]]}],\"heatmap\":[{\"type\":\"heatmap\",\"colorbar\":{\"outlinewidth\":0,\"ticks\":\"\"},\"colorscale\":[[0.0,\"#0d0887\"],[0.1111111111111111,\"#46039f\"],[0.2222222222222222,\"#7201a8\"],[0.3333333333333333,\"#9c179e\"],[0.4444444444444444,\"#bd3786\"],[0.5555555555555556,\"#d8576b\"],[0.6666666666666666,\"#ed7953\"],[0.7777777777777778,\"#fb9f3a\"],[0.8888888888888888,\"#fdca26\"],[1.0,\"#f0f921\"]]}],\"heatmapgl\":[{\"type\":\"heatmapgl\",\"colorbar\":{\"outlinewidth\":0,\"ticks\":\"\"},\"colorscale\":[[0.0,\"#0d0887\"],[0.1111111111111111,\"#46039f\"],[0.2222222222222222,\"#7201a8\"],[0.3333333333333333,\"#9c179e\"],[0.4444444444444444,\"#bd3786\"],[0.5555555555555556,\"#d8576b\"],[0.6666666666666666,\"#ed7953\"],[0.7777777777777778,\"#fb9f3a\"],[0.8888888888888888,\"#fdca26\"],[1.0,\"#f0f921\"]]}],\"contourcarpet\":[{\"type\":\"contourcarpet\",\"colorbar\":{\"outlinewidth\":0,\"ticks\":\"\"}}],\"contour\":[{\"type\":\"contour\",\"colorbar\":{\"outlinewidth\":0,\"ticks\":\"\"},\"colorscale\":[[0.0,\"#0d0887\"],[0.1111111111111111,\"#46039f\"],[0.2222222222222222,\"#7201a8\"],[0.3333333333333333,\"#9c179e\"],[0.4444444444444444,\"#bd3786\"],[0.5555555555555556,\"#d8576b\"],[0.6666666666666666,\"#ed7953\"],[0.7777777777777778,\"#fb9f3a\"],[0.8888888888888888,\"#fdca26\"],[1.0,\"#f0f921\"]]}],\"surface\":[{\"type\":\"surface\",\"colorbar\":{\"outlinewidth\":0,\"ticks\":\"\"},\"colorscale\":[[0.0,\"#0d0887\"],[0.1111111111111111,\"#46039f\"],[0.2222222222222222,\"#7201a8\"],[0.3333333333333333,\"#9c179e\"],[0.4444444444444444,\"#bd3786\"],[0.5555555555555556,\"#d8576b\"],[0.6666666666666666,\"#ed7953\"],[0.7777777777777778,\"#fb9f3a\"],[0.8888888888888888,\"#fdca26\"],[1.0,\"#f0f921\"]]}],\"mesh3d\":[{\"type\":\"mesh3d\",\"colorbar\":{\"outlinewidth\":0,\"ticks\":\"\"}}],\"scatter\":[{\"fillpattern\":{\"fillmode\":\"overlay\",\"size\":10,\"solidity\":0.2},\"type\":\"scatter\"}],\"parcoords\":[{\"type\":\"parcoords\",\"line\":{\"colorbar\":{\"outlinewidth\":0,\"ticks\":\"\"}}}],\"scatterpolargl\":[{\"type\":\"scatterpolargl\",\"marker\":{\"colorbar\":{\"outlinewidth\":0,\"ticks\":\"\"}}}],\"bar\":[{\"error_x\":{\"color\":\"#2a3f5f\"},\"error_y\":{\"color\":\"#2a3f5f\"},\"marker\":{\"line\":{\"color\":\"#E5ECF6\",\"width\":0.5},\"pattern\":{\"fillmode\":\"overlay\",\"size\":10,\"solidity\":0.2}},\"type\":\"bar\"}],\"scattergeo\":[{\"type\":\"scattergeo\",\"marker\":{\"colorbar\":{\"outlinewidth\":0,\"ticks\":\"\"}}}],\"scatterpolar\":[{\"type\":\"scatterpolar\",\"marker\":{\"colorbar\":{\"outlinewidth\":0,\"ticks\":\"\"}}}],\"histogram\":[{\"marker\":{\"pattern\":{\"fillmode\":\"overlay\",\"size\":10,\"solidity\":0.2}},\"type\":\"histogram\"}],\"scattergl\":[{\"type\":\"scattergl\",\"marker\":{\"colorbar\":{\"outlinewidth\":0,\"ticks\":\"\"}}}],\"scatter3d\":[{\"type\":\"scatter3d\",\"line\":{\"colorbar\":{\"outlinewidth\":0,\"ticks\":\"\"}},\"marker\":{\"colorbar\":{\"outlinewidth\":0,\"ticks\":\"\"}}}],\"scattermapbox\":[{\"type\":\"scattermapbox\",\"marker\":{\"colorbar\":{\"outlinewidth\":0,\"ticks\":\"\"}}}],\"scatterternary\":[{\"type\":\"scatterternary\",\"marker\":{\"colorbar\":{\"outlinewidth\":0,\"ticks\":\"\"}}}],\"scattercarpet\":[{\"type\":\"scattercarpet\",\"marker\":{\"colorbar\":{\"outlinewidth\":0,\"ticks\":\"\"}}}],\"carpet\":[{\"aaxis\":{\"endlinecolor\":\"#2a3f5f\",\"gridcolor\":\"white\",\"linecolor\":\"white\",\"minorgridcolor\":\"white\",\"startlinecolor\":\"#2a3f5f\"},\"baxis\":{\"endlinecolor\":\"#2a3f5f\",\"gridcolor\":\"white\",\"linecolor\":\"white\",\"minorgridcolor\":\"white\",\"startlinecolor\":\"#2a3f5f\"},\"type\":\"carpet\"}],\"table\":[{\"cells\":{\"fill\":{\"color\":\"#EBF0F8\"},\"line\":{\"color\":\"white\"}},\"header\":{\"fill\":{\"color\":\"#C8D4E3\"},\"line\":{\"color\":\"white\"}},\"type\":\"table\"}],\"barpolar\":[{\"marker\":{\"line\":{\"color\":\"#E5ECF6\",\"width\":0.5},\"pattern\":{\"fillmode\":\"overlay\",\"size\":10,\"solidity\":0.2}},\"type\":\"barpolar\"}],\"pie\":[{\"automargin\":true,\"type\":\"pie\"}]},\"layout\":{\"autotypenumbers\":\"strict\",\"colorway\":[\"#636efa\",\"#EF553B\",\"#00cc96\",\"#ab63fa\",\"#FFA15A\",\"#19d3f3\",\"#FF6692\",\"#B6E880\",\"#FF97FF\",\"#FECB52\"],\"font\":{\"color\":\"#2a3f5f\"},\"hovermode\":\"closest\",\"hoverlabel\":{\"align\":\"left\"},\"paper_bgcolor\":\"white\",\"plot_bgcolor\":\"#E5ECF6\",\"polar\":{\"bgcolor\":\"#E5ECF6\",\"angularaxis\":{\"gridcolor\":\"white\",\"linecolor\":\"white\",\"ticks\":\"\"},\"radialaxis\":{\"gridcolor\":\"white\",\"linecolor\":\"white\",\"ticks\":\"\"}},\"ternary\":{\"bgcolor\":\"#E5ECF6\",\"aaxis\":{\"gridcolor\":\"white\",\"linecolor\":\"white\",\"ticks\":\"\"},\"baxis\":{\"gridcolor\":\"white\",\"linecolor\":\"white\",\"ticks\":\"\"},\"caxis\":{\"gridcolor\":\"white\",\"linecolor\":\"white\",\"ticks\":\"\"}},\"coloraxis\":{\"colorbar\":{\"outlinewidth\":0,\"ticks\":\"\"}},\"colorscale\":{\"sequential\":[[0.0,\"#0d0887\"],[0.1111111111111111,\"#46039f\"],[0.2222222222222222,\"#7201a8\"],[0.3333333333333333,\"#9c179e\"],[0.4444444444444444,\"#bd3786\"],[0.5555555555555556,\"#d8576b\"],[0.6666666666666666,\"#ed7953\"],[0.7777777777777778,\"#fb9f3a\"],[0.8888888888888888,\"#fdca26\"],[1.0,\"#f0f921\"]],\"sequentialminus\":[[0.0,\"#0d0887\"],[0.1111111111111111,\"#46039f\"],[0.2222222222222222,\"#7201a8\"],[0.3333333333333333,\"#9c179e\"],[0.4444444444444444,\"#bd3786\"],[0.5555555555555556,\"#d8576b\"],[0.6666666666666666,\"#ed7953\"],[0.7777777777777778,\"#fb9f3a\"],[0.8888888888888888,\"#fdca26\"],[1.0,\"#f0f921\"]],\"diverging\":[[0,\"#8e0152\"],[0.1,\"#c51b7d\"],[0.2,\"#de77ae\"],[0.3,\"#f1b6da\"],[0.4,\"#fde0ef\"],[0.5,\"#f7f7f7\"],[0.6,\"#e6f5d0\"],[0.7,\"#b8e186\"],[0.8,\"#7fbc41\"],[0.9,\"#4d9221\"],[1,\"#276419\"]]},\"xaxis\":{\"gridcolor\":\"white\",\"linecolor\":\"white\",\"ticks\":\"\",\"title\":{\"standoff\":15},\"zerolinecolor\":\"white\",\"automargin\":true,\"zerolinewidth\":2},\"yaxis\":{\"gridcolor\":\"white\",\"linecolor\":\"white\",\"ticks\":\"\",\"title\":{\"standoff\":15},\"zerolinecolor\":\"white\",\"automargin\":true,\"zerolinewidth\":2},\"scene\":{\"xaxis\":{\"backgroundcolor\":\"#E5ECF6\",\"gridcolor\":\"white\",\"linecolor\":\"white\",\"showbackground\":true,\"ticks\":\"\",\"zerolinecolor\":\"white\",\"gridwidth\":2},\"yaxis\":{\"backgroundcolor\":\"#E5ECF6\",\"gridcolor\":\"white\",\"linecolor\":\"white\",\"showbackground\":true,\"ticks\":\"\",\"zerolinecolor\":\"white\",\"gridwidth\":2},\"zaxis\":{\"backgroundcolor\":\"#E5ECF6\",\"gridcolor\":\"white\",\"linecolor\":\"white\",\"showbackground\":true,\"ticks\":\"\",\"zerolinecolor\":\"white\",\"gridwidth\":2}},\"shapedefaults\":{\"line\":{\"color\":\"#2a3f5f\"}},\"annotationdefaults\":{\"arrowcolor\":\"#2a3f5f\",\"arrowhead\":0,\"arrowwidth\":1},\"geo\":{\"bgcolor\":\"white\",\"landcolor\":\"#E5ECF6\",\"subunitcolor\":\"white\",\"showland\":true,\"showlakes\":true,\"lakecolor\":\"white\"},\"title\":{\"x\":0.05},\"mapbox\":{\"style\":\"light\"}}},\"xaxis\":{\"title\":{\"text\":\"Time\",\"font\":{\"size\":18,\"color\":\"black\"}},\"tickfont\":{\"size\":16,\"color\":\"black\"},\"showgrid\":false,\"linecolor\":\"#000\",\"ticks\":\"outside\",\"linewidth\":1,\"tickwidth\":1},\"yaxis\":{\"title\":{\"text\":\"Values\",\"font\":{\"size\":18,\"color\":\"black\"}},\"tickfont\":{\"size\":16,\"color\":\"black\"},\"showgrid\":false,\"linecolor\":\"#000\",\"ticks\":\"outside\",\"zeroline\":false,\"linewidth\":1,\"tickwidth\":1},\"title\":{\"font\":{\"size\":18,\"color\":\"black\"},\"text\":\"Class 3\",\"x\":0.5,\"y\":0.9,\"xanchor\":\"center\",\"yanchor\":\"top\"},\"legend\":{\"font\":{\"size\":16,\"color\":\"black\"}},\"plot_bgcolor\":\"rgba(0,0,0,0)\",\"width\":1000,\"height\":400},                        {\"responsive\": true}                    ).then(function(){\n",
              "                            \n",
              "var gd = document.getElementById('80d29d6c-3f4f-4dea-9ae4-f18af6f44bf9');\n",
              "var x = new MutationObserver(function (mutations, observer) {{\n",
              "        var display = window.getComputedStyle(gd).display;\n",
              "        if (!display || display === 'none') {{\n",
              "            console.log([gd, 'removed!']);\n",
              "            Plotly.purge(gd);\n",
              "            observer.disconnect();\n",
              "        }}\n",
              "}});\n",
              "\n",
              "// Listen for the removal of the full notebook cells\n",
              "var notebookContainer = gd.closest('#notebook-container');\n",
              "if (notebookContainer) {{\n",
              "    x.observe(notebookContainer, {childList: true});\n",
              "}}\n",
              "\n",
              "// Listen for the clearing of the current output cell\n",
              "var outputEl = gd.closest('.output');\n",
              "if (outputEl) {{\n",
              "    x.observe(outputEl, {childList: true});\n",
              "}}\n",
              "\n",
              "                        })                };                });            </script>        </div>"
            ]
          },
          "metadata": {},
          "output_type": "display_data"
        }
      ],
      "source": [
        "for i in np.unique(labels):\n",
        "    plot_ts(\n",
        "        ts_set[labels == i][0].reshape(1, -1),\n",
        "        plot_title=f'Class {int(i)}'\n",
        "    )"
      ]
    },
    {
      "cell_type": "markdown",
      "metadata": {
        "id": "0ryFTWiz_fWA"
      },
      "source": [
        "Далее самостоятельно реализуйте класс `TimeSeriesHierarchicalClustering` из модуля *clustering.py*, который выполняет иерархическую кластеризацию временных рядов.\n",
        "\n",
        "Перед тем как приступить к реализации, изучите скелет этого класса. Реализуйте метод `fit()`, выполняющий кластеризацию данных на основе предвычисленной матрицы расстояний, которая передается в данный метод. Поскольку реализовать иерархическую кластеризацию довольно сложно, используйте готовую реализацию [`AgglomerativeClustering`](https://scikit-learn.org/stable/modules/generated/sklearn.cluster.AgglomerativeClustering.html) из *sklearn*.   \n",
        "\n",
        "Выполните иерархическую кластеризацию загруженных временных рядов CBF для двух функций расстояния: евлидовой метрики и DTW меры.\n",
        "Для этого сначала найдите матрицы расстояний между временными рядами, используя класс `PairwiseDistance`, и передайте каждую матрицу в метод `fit()` для кластеризации.\n",
        "Далее выполните визуализацию результатов в виде дендрограмм с помощью метода `plot_dendrogram()`, передав исходный набор временных рядов и их метки."
      ]
    },
    {
      "cell_type": "code",
      "execution_count": 28,
      "metadata": {},
      "outputs": [],
      "source": [
        "matrix_euclidean = PairwiseDistance(metric='euclidean').calculate(ts_set)\n",
        "matrix_dtw = PairwiseDistance(metric='dtw').calculate(ts_set)"
      ]
    },
    {
      "cell_type": "code",
      "execution_count": 32,
      "metadata": {
        "id": "LOZc-IVCH7OG"
      },
      "outputs": [
        {
          "data": {
            "image/png": "[encoded data removed]",
            "text/plain": [
              "<Figure size 1200x900 with 31 Axes>"
            ]
          },
          "metadata": {},
          "output_type": "display_data"
        }
      ],
      "source": [
        "clustering = TimeSeriesHierarchicalClustering(n_clusters=3)\n",
        "labels_euclidean = clustering.fit_predict(matrix_euclidean)\n",
        "clustering.plot_dendrogram(matrix_euclidean, labels)"
      ]
    },
    {
      "cell_type": "code",
      "execution_count": 33,
      "metadata": {},
      "outputs": [
        {
          "data": {
            "image/png": "[encoded data removed]",
            "text/plain": [
              "<Figure size 1200x900 with 31 Axes>"
            ]
          },
          "metadata": {},
          "output_type": "display_data"
        }
      ],
      "source": [
        "labels_dtw = clustering.fit_predict(matrix_dtw)\n",
        "clustering.plot_dendrogram(matrix_dtw, labels)"
      ]
    },
    {
      "cell_type": "markdown",
      "metadata": {
        "id": "AKLbiOYSp9us"
      },
      "source": [
        "Сравните результаты иерархической кластеризации, полученные при двух различных функций расстояния, с помощью силуэтного коэффициента. Для этого используйте функцию [`silhouette_score()`](https://scikit-learn.org/stable/modules/generated/sklearn.metrics.silhouette_score.html) из библиотеки *sklearn*, передав в нее предвычисленную матрицу расстояний и предсказанные метки.\n",
        "\n",
        "**Силуэтный коэффициент** – метрика, которая оценивает качество кластеризации на основе исходной выборки и результатов кластеризации без необходимости знания об истинных метках объектов.\n",
        "\n",
        "Силуэтный коэффициент для выборки показывает, насколько среднее расстояние до объектов своего кластера отличается от среднего расстояния до объектов других кластеров. Пусть дана выборка $X$, состоящая из $N$ объектов. Предположим, что объекты этой выборки были разбиты на кластеры $c_1, ... c_K$, $c_i \\in C$, с помощью некоторого алгоритма кластеризации. Тогда силуэтный коэффициент для выборки будет вычисляться следующим образом:\n",
        "\n",
        "\\begin{equation}\n",
        "sil\\_coef = \\frac{1}{N} \\sum_{c_k \\in C} \\sum_{x_i \\in c_k} \\frac{b(x_i, c_k) - a(x_i, c_k)}{\\max(a(x_i, c_k), b(x_i, c_k))},\n",
        "\\end{equation}\n",
        "\n",
        "где $a(x_i, c_k)$ – среднее расстояние от объекта $x_i \\in c_k$ до других объектов из этого же кластера $c_k$; <br> $b(x_i, c_k)$  – среднее расстояние от объекта $x_i \\in c_k$ до объектов из другого кластера $c_l$, $k \\neq l$.\n",
        "\n",
        "Силуэтный коэффициент принимает значения от  −1  до  1:\n",
        "*   –1 означает, что кластеры плохие, размытые;\n",
        "*   0 означает, что кластеры накладываются друг на друга;\n",
        "*   1 означает, что кластеры плотные и хорошо отделены друг от друга.\n",
        "\n",
        "Таким образом, чем ближе значение коэффициента к 1, тем лучше кластеризованы данные."
      ]
    },
    {
      "cell_type": "code",
      "execution_count": 34,
      "metadata": {
        "id": "awXYWGphqCbQ"
      },
      "outputs": [
        {
          "name": "stdout",
          "output_type": "stream",
          "text": [
            "Silhouette score for Euclidean distance: 0.28397004781854085\n",
            "Silhouette score for DTW distance: 0.4326794656360927\n"
          ]
        }
      ],
      "source": [
        "silhouette_score_euclidean = silhouette_score(matrix_euclidean, labels_euclidean)\n",
        "silhouette_score_dtw = silhouette_score(matrix_dtw, labels_dtw)\n",
        "\n",
        "print(\n",
        "    f'Silhouette score for Euclidean distance: {silhouette_score_euclidean}',\n",
        "    f'Silhouette score for DTW distance: {silhouette_score_dtw}',\n",
        "    sep='\\n'\n",
        ")"
      ]
    },
    {
      "cell_type": "markdown",
      "metadata": {
        "id": "CRfDkih_AGuB"
      },
      "source": [
        "![equation.png](data:image/png;base64,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)\n",
        "Проанализируйте полученные результаты кластеризации с помощью построенных дендрограмм и вычисленных силуэтных коэффициентов. Какая, на ваш взгляд, функция расстояния показала лучший результат и почему? Укажите, в каких случаях более предпочтительно использовать DTW меру, чем евклидову метрику."
      ]
    },
    {
      "cell_type": "markdown",
      "metadata": {
        "id": "vxDN87yuAQ9l"
      },
      "source": [
        "Лучший результат показала функция расстояния, вычисляющая DTW меру, поскольку набор данных содержит временные ряды, не синхронизированные по времени. DTW мера предпочтительна в задачах, где временные ряды могут быть смещены, иметь разную длину или разные скорости протекания событий. Евклидова мера более ограничена, так как предполагает строгое соответствие значений на одинаковых временных отметках."
      ]
    },
    {
      "cell_type": "markdown",
      "metadata": {
        "id": "1f2_mgETwkZY"
      },
      "source": [
        "## **Часть 2.** $Z$-нормализация временных рядов."
      ]
    },
    {
      "cell_type": "markdown",
      "metadata": {
        "id": "BvVfiEMTvl0o"
      },
      "source": [
        "### **Задача 5.**\n",
        "Реализуйте функцию вычисления нормализованного евклидова расстояния между временными рядами `norm_ED_distance()` в модуле *metrics.py* и проверьте правильность своей реализации, сравнив полученные результаты с результатами функции [`ed_distance()`](https://www.sktime.net/en/latest/api_reference/auto_generated/sktime.distances.euclidean_distance.html) из библиотеки *sktime*, в которую необходимо передать <u>нормализованные</u> временные ряды. Для нормализации временных рядов используйте функцию `z-normalize()` из *utils.py*.  Для проверки можно использовать синтетические временные ряды из первой части или заново их сгенерировать.\n",
        "\n",
        "**Нормализованная евклидова метрика** между двумя временными рядами $T_1$ и $T_2$ длины $n$ вычисляется следующим образом:\n",
        "\n",
        "\\begin{equation}\n",
        "\t\\text{ED}_{norm}(T_1, T_2) = \\sqrt {\\Big|\\; 2n\\left(1-\\dfrac{<T_1, T_2> - \\; n \\; \\cdotp \\mu_{T_1} \\; \\cdotp \\mu_{T_2}}{n \\; \\cdotp \\sigma_{T_1} \\; \\cdotp \\sigma_{T_2}}\\right)\\Big|},\n",
        "\\end{equation}\n",
        "\n",
        "где $<T_1, T_2>$ – скалярное произведение временных рядов, $\\mu_{T_1}$ и $\\mu_{T_2}$, $\\sigma_{T_1}$ и $\\sigma_{T_2}$ – среднее арифметическое и стандартное отклонение временных рядов соответственно.\n",
        "\n",
        "**Среднее арифметическое** $\\mu_T$ и **стандартное отклонение** $\\sigma_T$ временного ряда $T$ длины $n$ вычисляются по следующим формулам:\n",
        "\n",
        "\\begin{equation}\n",
        "\t\\mu_{T} = \\frac{1}{n}\\sum\\limits_{i=1}^{n} t_{i}, \\\\[1em]\n",
        "\t\\sigma_{T} = \\sqrt{\\frac{1}{n}\\sum\\limits_{i=1}^{n} t_i^2-\\mu_{T}^2}.\n",
        "\\end{equation}"
      ]
    },
    {
      "cell_type": "code",
      "execution_count": null,
      "metadata": {
        "id": "4CWvwwuQJNPP"
      },
      "outputs": [],
      "source": [
        "# INSERT YOUR CODE"
      ]
    },
    {
      "cell_type": "markdown",
      "metadata": {
        "id": "Fd-Ytm-3up37"
      },
      "source": [
        "### **Задача 6.**\n",
        "Далее убедимся, что выполнение $z$-нормализации на этапе предобработки данных имеет важное значение и может повысить точность решаемой задачи.\n",
        "\n",
        "В данном задании вы продолжите решать задачу иерархической кластеризации. В качестве данных будут использоваться два временных ряда из набора данных [BIDMC](https://physionet.org/content/chfdb/1.0.0/). Набор BIDMC состоит из записей ЭКГ-сигналов, снятых с 15 пациентов с сердечной недостаточностью тяжелой степени.  \n",
        "\n",
        "Загрузите два временных ряда и визуализируйте их с помощью функции `plot_ts()` из модуля *plots.py*."
      ]
    },
    {
      "cell_type": "code",
      "execution_count": null,
      "metadata": {
        "id": "Ej1vG79L3Ns-"
      },
      "outputs": [],
      "source": [
        "url1 = './datasets/part2/chf10.csv'\n",
        "ts1 = read_ts(url1)\n",
        "\n",
        "url2 = './datasets/part2/chf11.csv'\n",
        "ts2 = read_ts(url2)"
      ]
    },
    {
      "cell_type": "code",
      "execution_count": null,
      "metadata": {
        "id": "e7lUvTjb7dMa"
      },
      "outputs": [],
      "source": [
        "ts_set = np.concatenate((ts1, ts2), axis=1).T"
      ]
    },
    {
      "cell_type": "code",
      "execution_count": null,
      "metadata": {
        "id": "zBqBgXL_dr-K"
      },
      "outputs": [],
      "source": [
        "plot_ts(ts_set)"
      ]
    },
    {
      "cell_type": "markdown",
      "metadata": {
        "id": "voNtTQAg0aR5"
      },
      "source": [
        "Разделите каждый временной ряд на непересекающиеся подпоследовательности с помощью техники скользящего окна. Для этого используйте функцию `sliding_window()` из модуля *utils.py*, передав в нее временной ряд, заданную длину подпоследовательности и величину шага. В нашем случае, величина шага равна длине подпоследовательности."
      ]
    },
    {
      "cell_type": "code",
      "execution_count": null,
      "metadata": {
        "id": "ptVJWErHuts_"
      },
      "outputs": [],
      "source": [
        "m = 125\n",
        "subs_set1 = sliding_window(ts_set[0], m, m-1)\n",
        "subs_set2 = sliding_window(ts_set[1], m, m-1)"
      ]
    },
    {
      "cell_type": "markdown",
      "metadata": {
        "id": "JyZmw7l8rEmg"
      },
      "source": [
        "Сформируйте множество всех подпоследовательностей, извлеченных из двух временных рядов, и массив меток подпоследовательностей в соответствии с их принадлежностью к временному ряду."
      ]
    },
    {
      "cell_type": "code",
      "execution_count": null,
      "metadata": {
        "id": "wk2HrKVJzATk"
      },
      "outputs": [],
      "source": [
        "subs_set = np.concatenate((subs_set1[0:15], subs_set2[0:15]))\n",
        "labels = np.array([0]*subs_set1[0:15].shape[0] + [1]*subs_set2[0:15].shape[0])"
      ]
    },
    {
      "cell_type": "markdown",
      "metadata": {
        "id": "xNc4ihIRu2Xt"
      },
      "source": [
        "Добавьте в класс `PairwiseDistance` из модуля *pairwise_distance.py* возможность вычисления нормализованной евклидовой метрики между временными рядами. Если матрица расстояний строится для нормализованных временных рядов на основе евклидовой метрики, то должна вызываться функция `norm_ED_distance()`. Для остальных метрик/мер схожести перед нахождением матрицы расстояний временные ряды должны подтвергаться $z$-нормализации с помощью функции `z_normalize()` из модуля *utils.py*.\n",
        "\n",
        "Далее выполните иерархическую кластеризацию подпоследовательностей двух временных рядов с использованием предварительно построенных матриц расстояний на основе классической и нормализованной евклидовой метрики."
      ]
    },
    {
      "cell_type": "code",
      "execution_count": null,
      "metadata": {
        "id": "0s6Bcgims7r5"
      },
      "outputs": [],
      "source": [
        "# INSERT YOUR CODE"
      ]
    },
    {
      "cell_type": "markdown",
      "metadata": {
        "id": "WuquG9oFvJOo"
      },
      "source": [
        "Вычислите силуэтные коэффициенты для оценки качества кластеризации с нормализацией и без нее, как это было сделано в задаче 4 части 1."
      ]
    },
    {
      "cell_type": "code",
      "execution_count": null,
      "metadata": {
        "id": "ODvZDF2pvNR3"
      },
      "outputs": [],
      "source": [
        "# INSERT YOUR CODE"
      ]
    },
    {
      "cell_type": "markdown",
      "metadata": {
        "id": "KX8flrMwQnJi"
      },
      "source": [
        "![equation.png](data:image/png;base64,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)\n",
        "Сравните полученные результаты кластеризации с помощью построенных дендрограмм и вычисленных силуэтных коэффициентов. Позволила ли $z$-нормализации временных рядов повысить качество кластеризации?"
      ]
    },
    {
      "cell_type": "markdown",
      "metadata": {
        "id": "gg6MjxpSSKq3"
      },
      "source": [
        "*# WRITE YOUR ANSWER*"
      ]
    },
    {
      "cell_type": "markdown",
      "metadata": {
        "id": "pEVntMKowu8O"
      },
      "source": [
        "## **Часть 3.** Классификация изображений, представленных в виде временных рядов."
      ]
    },
    {
      "cell_type": "markdown",
      "metadata": {
        "id": "XKIw--vpLJzk"
      },
      "source": [
        "### **Задача 7.**\n",
        "В данном задании вам предстоит выполнить преобразование изображения, на котором находится некоторый объект, во временной ряд. Для этого вы реализуете один из существующих методов, предложенный в [статье Кеога и др](https://dl.acm.org/doi/10.5555/1182635.1164203).\n",
        "\n",
        "Данный метод заключается в том, что сначала на изображении выполняется поиск контура $E = \\{e_i\\}_{i=1}^L$, где $e_i$ – точки контура, и центра масс объекта $O$. Затем берутся точки, расположенные на контуре объекта, следующим образом.\n",
        "\n",
        "Рассмотрим луч $OP$ с началом в центре масс объекта $O$, направление которого совпадает с положительным направлением оси Ox (см. рисунок). Далее выполняется поворот против часовой стрелки луча $OP$ вокруг центра масс $O$ на некоторый заданный угол $α$, $1° \\leqslant α \\leqslant 360°$. Поворот луча будет осуществляться до тех пор, пока луч не пройдет полный оборот. Все точки $P = \\{P_i\\}_{i=1}^K$, $P_i \\in E$, $K = \\lfloor \\frac{360°}{α} \\rfloor$, образованные пересечением луча $OP$ с контуром $E$ во время поворота, будут являться искомыми.\n",
        "\n",
        "На завершающем шаге метода вычисляются расстояния между центром масс объекта $O$ и найденными точками на контуре $P$. В качестве функции расстояния может быть использовано манхэттенское или евклидово расстояние. Полученные расстояния будут формировать временной ряд $T$ длины $K$:\n",
        "\\begin{equation}\n",
        "T = \\{t_i\\}_{i=1}^K,\\;где \\; t_i = dist(O, P_i), \\; P_i \\in P.\n",
        "\\end{equation}\n",
        "\n",
        "\\\n",
        "<center><img src=\"https://github.com/mzym/TimeSeriesCourse/blob/main/practice/01%20Basics/img/image2ts.png?raw=true\" width=\"1000\"></center>"
      ]
    },
    {
      "cell_type": "markdown",
      "metadata": {
        "id": "KyWPcg5sw360"
      },
      "source": [
        "Поскольку часть 3 предполагает работу с изображениями, то вы будете использовать для реализации некоторых частей кода библиотеку компьютерного зрения *cv2*. Для поиска всех необходимых функций рекомендуем воспользоваться [документацией библиотеки cv2](https://docs.opencv.org/4.x/d6/d00/tutorial_py_root.html).\n",
        "\n",
        "Загрузите изображение *example.tif* из директории *./datasets/part3* и выполните его визуализацию с помощью соответствующих функций из библиотеки *cv2*."
      ]
    },
    {
      "cell_type": "code",
      "execution_count": null,
      "metadata": {
        "id": "u5K9vZtgw7CX"
      },
      "outputs": [],
      "source": [
        "# INSERT YOUR CODE"
      ]
    },
    {
      "cell_type": "markdown",
      "metadata": {
        "id": "SA2dUqaAw_S3"
      },
      "source": [
        "За конвертацию изображения во временной ряд с помощью описанного выше метода отвечает функция `image2ts()` из модуля *image_converter.py*. Прежде чем исходное изображение будет преобразовано во временной ряд, сначала оно должно пройти этап предварительной обработки. Предварительная обработка включает в себя следующие шаги:\n",
        "\n",
        "<center><img src=\"https://github.com/mzym/TimeSeriesCourse/blob/main/practice/01%20Basics/img/image_preprocessing.png?raw=true\" width=\"1000\"></center>\n",
        "\n",
        "Предобработка изображения в `image2ts()` осуществляется с помощью функции `_img_preprocess()`. Реализуйте в данной функции все представленные на диаграмме шаги предварительной обработки средствами библиотеки *cv2*. Промежуточные результаты должны совпадать с представленными на диаграмме.\n",
        "\n",
        "Далее выполните конвертацию изображения во временной ряд, передав в функцию `image2ts()` следующие заданные вами аргументы:\n",
        "*   исходное загруженное изображение;\n",
        "*   шаг угла поворота;\n",
        "*   параметр, определяющий нужно или нет визуализировать изображение с выделенными на нем контуром, центром масс и лучами, проведенными из центра.\n",
        "\n",
        "Визуализируйте полученный временной ряд.\n"
      ]
    },
    {
      "cell_type": "code",
      "execution_count": null,
      "metadata": {
        "id": "edKiXoEOxJJC"
      },
      "outputs": [],
      "source": [
        "angle_step = 20\n",
        "visualize = True\n",
        "\n",
        "ts = image2ts(img, angle_step, visualize)\n",
        "plot_ts(np.array([ts]), \"Time series representation of image\")"
      ]
    },
    {
      "cell_type": "markdown",
      "metadata": {
        "id": "YbZ1-p3J37lU"
      },
      "source": [
        "### **Задача 8.**\n",
        "\n",
        "Выполните классификацию изображений, представленных в виде временных рядов, с помощью метода $k$ ближайших соседей (kNN).\n",
        "\n",
        "**Метод $k$ ближайших соседей (kNN)** – алгоритм классификации, заключающийся в вычислении сходства между объектами на основе некоторой заданной метрики/меры схожести. Классифицируемый объект относится к тому классу, к которому принадлежит большинство из его $k$ соседей ($k$ ближайших к нему объектов из обучающей выборки).\n",
        "\n",
        "Для классификации на основе алгоритма kNN необходимо выполнить следующие шаги:\n",
        "\n",
        "1. Загрузить обучающую и тестовую выборки.\n",
        "\n",
        "2. Задать параметр алгоритма $k$, где $k$ – количество ближайших соседей, $k \\in \\mathbb N^*$.\n",
        "\n",
        "3. Для каждого объекта из тестовой выборки выполнить следующее:\n",
        "\n",
        "    3.1. Вычислить расстояние до всех объектов из обучающей выборки на основе заданной метрики/меры схожести.\n",
        "    \n",
        "    3.2. Отсортировать в порядке возрастания найденные расстояния.\n",
        "\n",
        "    3.3. Найти $k$ ближайших соседей, взяв первые $k$ минимальные расстояния из отсортированного массива расстояний.\n",
        "\n",
        "    3.4. Назначить объекту из тестовой выборки наиболее часто встречающийся класс найденных ранее ближайших соседей.\n",
        "\n",
        "\n",
        "Для этого задания вам предлагается набор данных, который содержит изображения листьев четырех различных пород деревьев: дуб, ольха, ива и липа. Набор данных состоит из обучающей и тестовой выборок, включающих по 15 и 10 изображений листьев на класс соответственно. Для составления этого набора данных изображения были взяты из [Swedish Leaf Dataset](https://www.cvl.isy.liu.se/en/research/datasets/swedish-leaf/).\n",
        "\n",
        "Загрузите изображения из обучающей и тестовой выборок, а также их метки, используя `read_images()` и `read_ts()` соответственно.\n",
        "Выполните визуализацию прецедентов выборки с помощью функции `plot_images()`.\n"
      ]
    },
    {
      "cell_type": "code",
      "execution_count": null,
      "metadata": {
        "id": "P4qhn1634PPR"
      },
      "outputs": [],
      "source": [
        "def read_images(dir: str) -> list[np.ndarray]:\n",
        "    \"\"\"\n",
        "    Load all images from a directory\n",
        "\n",
        "    Parameters\n",
        "    ----------\n",
        "    dir: directory path\n",
        "\n",
        "    Returns\n",
        "    -------\n",
        "    images: images from a directory\n",
        "    \"\"\"\n",
        "\n",
        "    images = []\n",
        "    for img_path in sorted(glob.glob(dir)):\n",
        "        cv_img = cv2.imread(img_path)\n",
        "        images.append(cv_img)\n",
        "\n",
        "    return images"
      ]
    },
    {
      "cell_type": "code",
      "execution_count": null,
      "metadata": {
        "id": "WRi1hxpPViVE"
      },
      "outputs": [],
      "source": [
        "def plot_images(images: list[np.ndarray], labels: np.ndarray, class_names: list[str]) -> None:\n",
        "    \"\"\"\n",
        "    Plot some images from dataset\n",
        "\n",
        "    Parameters\n",
        "    ----------\n",
        "    images: dataset of images\n",
        "    labels: labels of images\n",
        "    class_names: class names of images\n",
        "    \"\"\"\n",
        "\n",
        "    rows = 2\n",
        "    columns = 4\n",
        "\n",
        "    fig, axes = plt.subplots(nrows=rows, ncols=columns, figsize=(columns*2, rows*3))\n",
        "\n",
        "    for num in range(1, rows*columns+1):\n",
        "        fig.add_subplot(rows, columns, num)\n",
        "        idx = num - 1\n",
        "        plt.imshow(images[idx], aspect='auto')\n",
        "        plt.title(f'{class_names[labels[idx]]}', fontsize=10)\n",
        "\n",
        "    fig.tight_layout()\n",
        "\n",
        "    for idx, ax in enumerate(axes.flat):\n",
        "        ax.set_xticks([])\n",
        "        ax.set_yticks([])"
      ]
    },
    {
      "cell_type": "code",
      "execution_count": null,
      "metadata": {
        "id": "6LYlleFcxTGv"
      },
      "outputs": [],
      "source": [
        "train_set_path = \"./datasets/part3/train_set_leaves/*.tif\"\n",
        "test_set_path = \"./datasets/part3/test_set_leaves/*.tif\"\n",
        "\n",
        "train_images = read_images(train_set_path)\n",
        "test_images = read_images(test_set_path)\n",
        "\n",
        "train_label_path = './datasets/part3/train_set_leaves/train_label.csv'\n",
        "test_label_path = './datasets/part3/test_set_leaves/test_label.csv'\n",
        "\n",
        "train_labels = read_ts(train_label_path)\n",
        "train_labels = train_labels.reshape(-1).astype('int32')\n",
        "\n",
        "test_labels = read_ts(test_label_path)\n",
        "test_labels = test_labels.reshape(-1).astype('int32')"
      ]
    },
    {
      "cell_type": "code",
      "execution_count": null,
      "metadata": {
        "id": "Mxibv3gGxToN"
      },
      "outputs": [],
      "source": [
        "class_names = ['Quercus (дуб)', 'Alnus (ольха)', 'Salix (ива)', 'Tilia (липа)']\n",
        "plot_images(train_images, train_labels, class_names)"
      ]
    },
    {
      "cell_type": "markdown",
      "metadata": {
        "id": "ge9b7ztIxXCo"
      },
      "source": [
        "Выполните преобразование изображений обучающей и тестовой выборок во временные ряды с помощью функции `image2ts()`.  "
      ]
    },
    {
      "cell_type": "code",
      "execution_count": null,
      "metadata": {
        "id": "fpDi7VN1xXwo"
      },
      "outputs": [],
      "source": [
        "# INSERT YOUR CODE"
      ]
    },
    {
      "cell_type": "markdown",
      "metadata": {
        "id": "fXWq_cM6vUbK"
      },
      "source": [
        "Для классификации временных рядов методом $k$ ближайших соседей вам необходимо использовать класс `TimeSeriesKNN` из модуля *classification.py*.\n",
        "Реализуйте метод `fit()` в классе `TimeSeriesKNN`, который выполняет поиск для каждого элемента из тестовой выборки $k$ ближайших соседей и назначает им тот класс, который является часто встречающимся среди классов ближайших соседей. В качестве параметров в метод `fit()` передается тестовая выборка. Вычислите точность классификации по метрике accuracy с помощью функции `calculate_accurary()` из модуля *classification.py*."
      ]
    },
    {
      "cell_type": "code",
      "execution_count": null,
      "metadata": {
        "id": "rttBJwnkyYT9"
      },
      "outputs": [],
      "source": [
        "n_neighbors = 6\n",
        "metric = 'euclidean'\n",
        "metric_params = {'normalize': True}\n",
        "\n",
        "# INSERT YOUR CODE"
      ]
    },
    {
      "cell_type": "code",
      "execution_count": null,
      "metadata": {
        "id": "QCBAiXuAzLpQ"
      },
      "outputs": [],
      "source": [
        "metric = 'dtw'\n",
        "metric_params = {'normalize': True}\n",
        "\n",
        "# INSERT YOUR CODE"
      ]
    },
    {
      "cell_type": "markdown",
      "metadata": {
        "id": "6Fbfsej4XKX4"
      },
      "source": [
        "![equation.png](data:image/png;base64,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)\n",
        "Проанализируйте результаты и сделайте выводы."
      ]
    },
    {
      "cell_type": "markdown",
      "metadata": {
        "id": "b2YG3zbeXLgQ"
      },
      "source": [
        "*# WRITE YOUR ANSWER*"
      ]
    }
  ],
  "metadata": {
    "colab": {
      "provenance": [],
      "toc_visible": true
    },
    "kernelspec": {
      "display_name": "Python 3",
      "name": "python3"
    },
    "language_info": {
      "codemirror_mode": {
        "name": "ipython",
        "version": 3
      },
      "file_extension": ".py",
      "mimetype": "text/x-python",
      "name": "python",
      "nbconvert_exporter": "python",
      "pygments_lexer": "ipython3",
      "version": "3.12.4"
    }
  },
  "nbformat": 4,
  "nbformat_minor": 0
}
